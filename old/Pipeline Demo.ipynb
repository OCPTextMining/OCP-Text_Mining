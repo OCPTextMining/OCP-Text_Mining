{
 "cells": [
  {
   "cell_type": "code",
   "execution_count": 1,
   "metadata": {
    "ExecuteTime": {
     "end_time": "2018-10-08T13:38:46.703815Z",
     "start_time": "2018-10-08T13:38:43.719706Z"
    }
   },
   "outputs": [],
   "source": [
    "import glob\n",
    "import json\n",
    "import requests\n",
    "from config import Config\n",
    "import spotlight\n",
    "import nltk"
   ]
  },
  {
   "cell_type": "markdown",
   "metadata": {},
   "source": [
    "# Load data"
   ]
  },
  {
   "cell_type": "code",
   "execution_count": 2,
   "metadata": {
    "ExecuteTime": {
     "end_time": "2018-10-08T13:38:47.379648Z",
     "start_time": "2018-10-08T13:38:47.353132Z"
    }
   },
   "outputs": [],
   "source": [
    "def input_data(text_file_directory=Config.TEXT_DATA_PATH):\n",
    "    \"\"\"\n",
    "    Reads the text documents contained in text_file_directory\n",
    "    :param text_file_directory: Path to directory (String)\n",
    "    :return: List where one element in a word in the text. The text order is kept. (List of String)\n",
    "    \"\"\"\n",
    "    list_of_words = []\n",
    "    for file_path in glob.glob(text_file_directory):\n",
    "        with open(file_path, 'r', errors=\"ignore\") as f:\n",
    "            content = ''.join(f.readlines())\n",
    "            list_of_words.append(content)\n",
    "    return list_of_words"
   ]
  },
  {
   "cell_type": "code",
   "execution_count": 3,
   "metadata": {
    "ExecuteTime": {
     "end_time": "2018-10-08T13:38:47.983070Z",
     "start_time": "2018-10-08T13:38:47.975415Z"
    }
   },
   "outputs": [],
   "source": [
    "def pprint(data):\n",
    "    print(json.dumps(data, sort_keys=True, indent=4))"
   ]
  },
  {
   "cell_type": "code",
   "execution_count": 4,
   "metadata": {
    "ExecuteTime": {
     "end_time": "2018-10-08T13:38:48.524454Z",
     "start_time": "2018-10-08T13:38:48.478101Z"
    }
   },
   "outputs": [],
   "source": [
    "data = input_data()"
   ]
  },
  {
   "cell_type": "markdown",
   "metadata": {},
   "source": [
    "# Entity Mapping (DBpedia Spotlight) "
   ]
  },
  {
   "cell_type": "markdown",
   "metadata": {},
   "source": [
    "## Demo of the API"
   ]
  },
  {
   "cell_type": "code",
   "execution_count": 5,
   "metadata": {
    "ExecuteTime": {
     "end_time": "2018-10-08T13:38:52.222258Z",
     "start_time": "2018-10-08T13:38:50.046314Z"
    }
   },
   "outputs": [],
   "source": [
    "annotations = spotlight.annotate('https://api.dbpedia-spotlight.org/en/annotate?', 'President Obama on Monday will call for a new minimum tax rate for individuals making more than $1 million a year to ensure that they pay at least the same percentage of their earnings as other taxpayers, according to administration officials.', confidence=0.4, support=20)"
   ]
  },
  {
   "cell_type": "code",
   "execution_count": 6,
   "metadata": {
    "ExecuteTime": {
     "end_time": "2018-10-08T13:38:52.274932Z",
     "start_time": "2018-10-08T13:38:52.227196Z"
    }
   },
   "outputs": [
    {
     "data": {
      "text/plain": [
       "'tax'"
      ]
     },
     "execution_count": 6,
     "metadata": {},
     "output_type": "execute_result"
    }
   ],
   "source": [
    "a = 'President Obama on Monday will call for a new minimum tax rate for individuals making more than $1 million a year to ensure that they pay at least the same percentage of their earnings as other taxpayers, according to administration officials.'\n",
    "a[54:54+len(\"tax\")]"
   ]
  },
  {
   "cell_type": "code",
   "execution_count": 7,
   "metadata": {
    "ExecuteTime": {
     "end_time": "2018-10-08T13:38:52.300615Z",
     "start_time": "2018-10-08T13:38:52.283658Z"
    }
   },
   "outputs": [
    {
     "name": "stdout",
     "output_type": "stream",
     "text": [
      "[\n",
      "    {\n",
      "        \"URI\": \"http://dbpedia.org/resource/Barack_Obama\",\n",
      "        \"offset\": 0,\n",
      "        \"percentageOfSecondRank\": 0.014585380366391662,\n",
      "        \"similarityScore\": 0.985624294762507,\n",
      "        \"support\": 25941,\n",
      "        \"surfaceForm\": \"President Obama\",\n",
      "        \"types\": \"Http://xmlns.com/foaf/0.1/Person,Wikidata:Q82955,Wikidata:Q5,Wikidata:Q30461,Wikidata:Q24229398,Wikidata:Q215627,DUL:NaturalPerson,DUL:Agent,Schema:Person,DBpedia:President,DBpedia:Politician,DBpedia:Person,DBpedia:Agent\"\n",
      "    },\n",
      "    {\n",
      "        \"URI\": \"http://dbpedia.org/resource/Tax\",\n",
      "        \"offset\": 54,\n",
      "        \"percentageOfSecondRank\": 0.0010311806078409575,\n",
      "        \"similarityScore\": 0.9989115305036729,\n",
      "        \"support\": 14066,\n",
      "        \"surfaceForm\": \"tax\",\n",
      "        \"types\": \"\"\n",
      "    }\n",
      "]\n"
     ]
    }
   ],
   "source": [
    "pprint(annotations)"
   ]
  },
  {
   "cell_type": "code",
   "execution_count": 8,
   "metadata": {
    "ExecuteTime": {
     "end_time": "2018-10-08T13:38:58.623972Z",
     "start_time": "2018-10-08T13:38:52.982215Z"
    }
   },
   "outputs": [],
   "source": [
    "annotations = spotlight.annotate('https://api.dbpedia-spotlight.org/en/annotate?', data[0], confidence=0.5, support=20)"
   ]
  },
  {
   "cell_type": "code",
   "execution_count": 9,
   "metadata": {
    "ExecuteTime": {
     "end_time": "2018-10-08T13:38:58.634522Z",
     "start_time": "2018-10-08T13:38:58.627529Z"
    }
   },
   "outputs": [],
   "source": [
    "# pprint(annotations)"
   ]
  },
  {
   "cell_type": "markdown",
   "metadata": {},
   "source": [
    "## Retrive Unique Resource Identifier (URI)"
   ]
  },
  {
   "cell_type": "code",
   "execution_count": 10,
   "metadata": {
    "ExecuteTime": {
     "end_time": "2018-10-08T13:38:58.651433Z",
     "start_time": "2018-10-08T13:38:58.638526Z"
    }
   },
   "outputs": [],
   "source": [
    "def retrive_uri(data, url=\"https://api.dbpedia-spotlight.org/en/annotate?\", confidence=0.5, support=20):\n",
    "    tags = []\n",
    "    tokenizer = nltk.tokenize.RegexpTokenizer(r'\\w+')\n",
    "    annotations = spotlight.annotate(url, data, confidence=confidence, support=support)\n",
    "    for annotation in annotations:\n",
    "        uri = annotation.get(\"URI\")\n",
    "        start_idx = annotation.get(\"offset\")\n",
    "        word = annotation.get(\"surfaceForm\")\n",
    "        end_idx = start_idx + len(word)\n",
    "        if annotation.get(\"types\"):\n",
    "            list_of_types = [elt for elt in annotation[\"types\"].split(',') if \"DBpedia\" in elt]\n",
    "            type_ = list_of_types[0]\n",
    "        else:\n",
    "            type_ = \"ex:\" + uri.split(\"/\")[-1]\n",
    "        tags.append((word, uri, type_, start_idx, end_idx))\n",
    "    return tags"
   ]
  },
  {
   "cell_type": "code",
   "execution_count": 11,
   "metadata": {
    "ExecuteTime": {
     "end_time": "2018-10-08T13:39:04.254020Z",
     "start_time": "2018-10-08T13:38:58.657116Z"
    }
   },
   "outputs": [],
   "source": [
    "l = retrive_uri(data[0])"
   ]
  },
  {
   "cell_type": "code",
   "execution_count": 63,
   "metadata": {
    "ExecuteTime": {
     "end_time": "2018-10-05T19:28:04.389306Z",
     "start_time": "2018-10-05T19:28:04.380936Z"
    },
    "scrolled": true
   },
   "outputs": [
    {
     "name": "stdout",
     "output_type": "stream",
     "text": [
      "('China', 'http://dbpedia.org/resource/China', 'DBpedia:PopulatedPlace', 9, 14)\n",
      "('VAT', 'http://dbpedia.org/resource/Value-added_tax', 'ex:Value-added_tax', 39, 42)\n",
      "('awash', 'http://dbpedia.org/resource/Awash_River', 'DBpedia:WorldHeritageSite', 81, 86)\n",
      "('VAT', 'http://dbpedia.org/resource/Value-added_tax', 'ex:Value-added_tax', 138, 141)\n",
      "('fertilizer', 'http://dbpedia.org/resource/Fertilizer', 'ex:Fertilizer', 145, 155)\n",
      "('China', 'http://dbpedia.org/resource/China', 'DBpedia:PopulatedPlace', 165, 170)\n",
      "('Chinese', 'http://dbpedia.org/resource/China', 'DBpedia:PopulatedPlace', 319, 326)\n",
      "('FOB', 'http://dbpedia.org/resource/Forward_operating_base', 'ex:Forward_operating_base', 502, 505)\n",
      "('CFR', 'http://dbpedia.org/resource/Code_of_Federal_Regulations', 'DBpedia:WrittenWork', 873, 876)\n",
      "('India', 'http://dbpedia.org/resource/India', 'DBpedia:PopulatedPlace', 936, 941)\n",
      "('Pakistan', 'http://dbpedia.org/resource/Pakistan', 'DBpedia:PopulatedPlace', 945, 953)\n",
      "('Chinese', 'http://dbpedia.org/resource/China', 'DBpedia:PopulatedPlace', 1095, 1102)\n",
      "('DAP', 'http://dbpedia.org/resource/MP3_player', 'ex:MP3_player', 1103, 1106)\n",
      "('DAP', 'http://dbpedia.org/resource/MP3_player', 'ex:MP3_player', 1221, 1224)\n",
      "('Chinese', 'http://dbpedia.org/resource/China', 'DBpedia:PopulatedPlace', 1579, 1586)\n",
      "('DAP', 'http://dbpedia.org/resource/MP3_player', 'ex:MP3_player', 1587, 1590)\n",
      "('Vietnam', 'http://dbpedia.org/resource/Vietnam', 'DBpedia:PopulatedPlace', 1673, 1680)\n",
      "('Pakistan', 'http://dbpedia.org/resource/Pakistan', 'DBpedia:PopulatedPlace', 1682, 1690)\n",
      "('India', 'http://dbpedia.org/resource/India', 'DBpedia:PopulatedPlace', 1696, 1701)\n",
      "('accounting', 'http://dbpedia.org/resource/Accounting', 'ex:Accounting', 1702, 1712)\n",
      "('Brazil', 'http://dbpedia.org/resource/Brazil', 'DBpedia:PopulatedPlace', 1842, 1848)\n",
      "('FOB', 'http://dbpedia.org/resource/Forward_operating_base', 'ex:Forward_operating_base', 1949, 1952)\n",
      "('Yara', 'http://dbpedia.org/resource/Yara_International', 'DBpedia:Organisation', 1970, 1974)\n",
      "('CFR', 'http://dbpedia.org/resource/Code_of_Federal_Regulations', 'DBpedia:WrittenWork', 2127, 2130)\n",
      "('CFR', 'http://dbpedia.org/resource/Code_of_Federal_Regulations', 'DBpedia:WrittenWork', 2202, 2205)\n",
      "('acid', 'http://dbpedia.org/resource/Acid', 'ex:Acid', 2480, 2484)\n",
      "('India', 'http://dbpedia.org/resource/India', 'DBpedia:PopulatedPlace', 2521, 2526)\n",
      "('Africa', 'http://dbpedia.org/resource/Africa', 'DBpedia:PopulatedPlace', 2852, 2858)\n",
      "('VAT', 'http://dbpedia.org/resource/Value-added_tax', 'ex:Value-added_tax', 2945, 2948)\n",
      "('fertilizer', 'http://dbpedia.org/resource/Fertilizer', 'ex:Fertilizer', 2952, 2962)\n",
      "('China', 'http://dbpedia.org/resource/China', 'DBpedia:PopulatedPlace', 2972, 2977)\n",
      "('Chinese', 'http://dbpedia.org/resource/China', 'DBpedia:PopulatedPlace', 3017, 3024)\n",
      "('DAP', 'http://dbpedia.org/resource/MP3_player', 'ex:MP3_player', 3025, 3028)\n",
      "('FOB', 'http://dbpedia.org/resource/Forward_operating_base', 'ex:Forward_operating_base', 3049, 3052)\n",
      "('DAP', 'http://dbpedia.org/resource/MP3_player', 'ex:MP3_player', 3104, 3107)\n",
      "('Brazil', 'http://dbpedia.org/resource/Brazil', 'DBpedia:PopulatedPlace', 3113, 3119)\n",
      "('CFR', 'http://dbpedia.org/resource/Code_of_Federal_Regulations', 'DBpedia:WrittenWork', 3142, 3145)\n",
      "('Indian Meteorological Department', 'http://dbpedia.org/resource/India_Meteorological_Department', 'DBpedia:Organisation', 3149, 3181)\n",
      "('Chinese', 'http://dbpedia.org/resource/China', 'DBpedia:PopulatedPlace', 3252, 3259)\n",
      "('sulphur', 'http://dbpedia.org/resource/Sulfur', 'DBpedia:Drug', 3260, 3267)\n",
      "('RMB', 'http://dbpedia.org/resource/Renminbi', 'DBpedia:Currency', 3331, 3334)\n",
      "('FOB', 'http://dbpedia.org/resource/Forward_operating_base', 'ex:Forward_operating_base', 3356, 3359)\n",
      "('Middle East', 'http://dbpedia.org/resource/Middle_East', 'ex:Middle_East', 3386, 3397)\n",
      "('Ammonia', 'http://dbpedia.org/resource/Ammonia', 'DBpedia:ChemicalSubstance', 3420, 3427)\n",
      "('oilseed', 'http://dbpedia.org/resource/Vegetable_oil', 'ex:Vegetable_oil', 3631, 3638)\n",
      "('corn', 'http://dbpedia.org/resource/Wheat', 'DBpedia:Species', 3821, 3825)\n",
      "('soybean', 'http://dbpedia.org/resource/Soybean', 'DBpedia:Species', 3830, 3837)\n",
      "('USDA', 'http://dbpedia.org/resource/United_States_Department_of_Agriculture', 'DBpedia:Organisation', 3863, 3867)\n",
      "('cap', 'http://dbpedia.org/resource/Channel_capacity', 'ex:Channel_capacity', 3990, 3993)\n",
      "('fertilizer', 'http://dbpedia.org/resource/Fertilizer', 'ex:Fertilizer', 4014, 4024)\n",
      "('corn', 'http://dbpedia.org/resource/Wheat', 'DBpedia:Species', 4096, 4100)\n",
      "('Europe', 'http://dbpedia.org/resource/European_Union', 'DBpedia:PopulatedPlace', 4109, 4115)\n",
      "('Bloomberg', 'http://dbpedia.org/resource/Bloomberg_L.P.', 'DBpedia:Organisation', 4184, 4193)\n",
      "('EU', 'http://dbpedia.org/resource/European_Union', 'DBpedia:PopulatedPlace', 4214, 4216)\n",
      "('corn', 'http://dbpedia.org/resource/Wheat', 'DBpedia:Species', 4217, 4221)\n",
      "('French', 'http://dbpedia.org/resource/French_language', 'DBpedia:Language', 4290, 4296)\n",
      "('Bulgaria', 'http://dbpedia.org/resource/Bulgaria', 'DBpedia:PopulatedPlace', 4431, 4439)\n",
      "('Hungary', 'http://dbpedia.org/resource/Hungary', 'DBpedia:PopulatedPlace', 4441, 4448)\n",
      "('Italy', 'http://dbpedia.org/resource/Kingdom_of_Italy', 'DBpedia:PopulatedPlace', 4453, 4458)\n",
      "('fertilizer', 'http://dbpedia.org/resource/Fertilizer', 'ex:Fertilizer', 4522, 4532)\n",
      "('Europe', 'http://dbpedia.org/resource/European_Union', 'DBpedia:PopulatedPlace', 4606, 4612)\n",
      "('soil moisture', 'http://dbpedia.org/resource/Soil', 'ex:Soil', 4778, 4791)\n",
      "('DAP', 'http://dbpedia.org/resource/MP3_player', 'ex:MP3_player', 4890, 4893)\n",
      "('NORTH AMERICA', 'http://dbpedia.org/resource/United_States', 'DBpedia:PopulatedPlace', 4898, 4911)\n",
      "('Tampa', 'http://dbpedia.org/resource/Tampa_Bay', 'ex:Tampa_Bay', 4915, 4920)\n",
      "('Latin America', 'http://dbpedia.org/resource/Latin_America', 'DBpedia:PopulatedPlace', 4949, 4962)\n",
      "('DAP', 'http://dbpedia.org/resource/MP3_player', 'ex:MP3_player', 4988, 4991)\n",
      "('FOB', 'http://dbpedia.org/resource/Forward_operating_base', 'ex:Forward_operating_base', 5008, 5011)\n",
      "('Tampa', 'http://dbpedia.org/resource/Tampa_Bay', 'ex:Tampa_Bay', 5012, 5017)\n",
      "('Latin America', 'http://dbpedia.org/resource/Latin_America', 'DBpedia:PopulatedPlace', 5022, 5035)\n",
      "('panamax', 'http://dbpedia.org/resource/Panamax', 'ex:Panamax', 5145, 5152)\n",
      "('India', 'http://dbpedia.org/resource/India', 'DBpedia:PopulatedPlace', 5157, 5162)\n",
      "('US Midwest', 'http://dbpedia.org/resource/Midwestern_United_States', 'ex:Midwestern_United_States', 5222, 5232)\n",
      "('DAP', 'http://dbpedia.org/resource/MP3_player', 'ex:MP3_player', 5288, 5291)\n",
      "('DAP', 'http://dbpedia.org/resource/MP3_player', 'ex:MP3_player', 5495, 5498)\n",
      "('DAP', 'http://dbpedia.org/resource/MP3_player', 'ex:MP3_player', 5752, 5755)\n",
      "('FOB', 'http://dbpedia.org/resource/Forward_operating_base', 'ex:Forward_operating_base', 5784, 5787)\n",
      "('Arkansas River', 'http://dbpedia.org/resource/Arkansas_River', 'DBpedia:Stream', 5798, 5812)\n",
      "('USA', 'http://dbpedia.org/resource/United_States', 'DBpedia:PopulatedPlace', 5871, 5874)\n",
      "('DAP', 'http://dbpedia.org/resource/MP3_player', 'ex:MP3_player', 5967, 5970)\n",
      "('fertilizer', 'http://dbpedia.org/resource/Fertilizer', 'ex:Fertilizer', 6003, 6013)\n",
      "('DAP', 'http://dbpedia.org/resource/MP3_player', 'ex:MP3_player', 6116, 6119)\n",
      "('China', 'http://dbpedia.org/resource/China', 'DBpedia:PopulatedPlace', 6183, 6188)\n",
      "('Russian', 'http://dbpedia.org/resource/Russia', 'DBpedia:PopulatedPlace', 6194, 6201)\n",
      "('Moroccan', 'http://dbpedia.org/resource/Morocco', 'DBpedia:PopulatedPlace', 6206, 6214)\n",
      "('DAP', 'http://dbpedia.org/resource/MP3_player', 'ex:MP3_player', 6247, 6250)\n",
      "('DAP', 'http://dbpedia.org/resource/MP3_player', 'ex:MP3_player', 6308, 6311)\n",
      "('DAP', 'http://dbpedia.org/resource/MP3_player', 'ex:MP3_player', 6516, 6519)\n",
      "('DAP', 'http://dbpedia.org/resource/MP3_player', 'ex:MP3_player', 6655, 6658)\n",
      "('China', 'http://dbpedia.org/resource/China', 'DBpedia:PopulatedPlace', 6690, 6695)\n",
      "('Morocco', 'http://dbpedia.org/resource/Morocco', 'DBpedia:PopulatedPlace', 6782, 6789)\n",
      "('Russia', 'http://dbpedia.org/resource/Russia', 'DBpedia:PopulatedPlace', 6809, 6815)\n",
      "('fertilizer', 'http://dbpedia.org/resource/Fertilizer', 'ex:Fertilizer', 7258, 7268)\n",
      "('Morocco', 'http://dbpedia.org/resource/Morocco', 'DBpedia:PopulatedPlace', 7293, 7300)\n",
      "('Russia', 'http://dbpedia.org/resource/Russia', 'DBpedia:PopulatedPlace', 7316, 7322)\n",
      "('China', 'http://dbpedia.org/resource/China', 'DBpedia:PopulatedPlace', 7341, 7346)\n",
      "('US Midwest', 'http://dbpedia.org/resource/Midwestern_United_States', 'ex:Midwestern_United_States', 7362, 7372)\n",
      "('Slow', 'http://dbpedia.org/resource/Speed', 'ex:Speed', 7374, 7378)\n",
      "('DAP', 'http://dbpedia.org/resource/MP3_player', 'ex:MP3_player', 7383, 7386)\n",
      "('DAP', 'http://dbpedia.org/resource/MP3_player', 'ex:MP3_player', 7394, 7397)\n",
      "('DAP', 'http://dbpedia.org/resource/MP3_player', 'ex:MP3_player', 7586, 7589)\n",
      "('Midwest', 'http://dbpedia.org/resource/Midwestern_United_States', 'ex:Midwestern_United_States', 7706, 7713)\n",
      "('FOB', 'http://dbpedia.org/resource/Forward_operating_base', 'ex:Forward_operating_base', 7743, 7746)\n",
      "('DAP', 'http://dbpedia.org/resource/MP3_player', 'ex:MP3_player', 7760, 7763)\n",
      "('DAP', 'http://dbpedia.org/resource/MP3_player', 'ex:MP3_player', 7826, 7829)\n",
      "('NOLA', 'http://dbpedia.org/resource/New_Orleans', 'DBpedia:Settlement', 7869, 7873)\n",
      "('DAP', 'http://dbpedia.org/resource/MP3_player', 'ex:MP3_player', 7912, 7915)\n",
      "('China', 'http://dbpedia.org/resource/China', 'DBpedia:PopulatedPlace', 7948, 7953)\n",
      "('FOB', 'http://dbpedia.org/resource/Forward_operating_base', 'ex:Forward_operating_base', 8010, 8013)\n",
      "('New Orleans', 'http://dbpedia.org/resource/New_Orleans', 'DBpedia:Settlement', 8014, 8025)\n",
      "('FOB', 'http://dbpedia.org/resource/Forward_operating_base', 'ex:Forward_operating_base', 8170, 8173)\n",
      "('FOB', 'http://dbpedia.org/resource/Forward_operating_base', 'ex:Forward_operating_base', 8205, 8208)\n",
      "('Morocco', 'http://dbpedia.org/resource/Morocco', 'DBpedia:PopulatedPlace', 8461, 8468)\n",
      "('DAP', 'http://dbpedia.org/resource/MP3_player', 'ex:MP3_player', 8516, 8519)\n",
      "('Koch', 'http://dbpedia.org/resource/Ed_Koch', 'DBpedia:Person', 8552, 8556)\n",
      "('PotashCorp', 'http://dbpedia.org/resource/PotashCorp', 'DBpedia:Organisation', 8561, 8571)\n",
      "('Oakley', 'http://dbpedia.org/resource/Oakley_Youth_Development_Center', 'DBpedia:Settlement', 8714, 8720)\n",
      "('Koch', 'http://dbpedia.org/resource/Ed_Koch', 'DBpedia:Person', 8721, 8725)\n",
      "('DAP', 'http://dbpedia.org/resource/MP3_player', 'ex:MP3_player', 8749, 8752)\n",
      "('DAP', 'http://dbpedia.org/resource/MP3_player', 'ex:MP3_player', 8779, 8782)\n",
      "('China', 'http://dbpedia.org/resource/China', 'DBpedia:PopulatedPlace', 8803, 8808)\n",
      "('NOLA', 'http://dbpedia.org/resource/New_Orleans', 'DBpedia:Settlement', 8849, 8853)\n",
      "('DAP', 'http://dbpedia.org/resource/MP3_player', 'ex:MP3_player', 8865, 8868)\n",
      "('Brazil', 'http://dbpedia.org/resource/Brazil', 'DBpedia:PopulatedPlace', 8907, 8913)\n",
      "('DAP', 'http://dbpedia.org/resource/MP3_player', 'ex:MP3_player', 8923, 8926)\n",
      "('NOLA', 'http://dbpedia.org/resource/New_Orleans', 'DBpedia:Settlement', 8952, 8956)\n",
      "('DAP', 'http://dbpedia.org/resource/MP3_player', 'ex:MP3_player', 9002, 9005)\n",
      "('Morocco', 'http://dbpedia.org/resource/Morocco', 'DBpedia:PopulatedPlace', 9025, 9032)\n",
      "('DAP', 'http://dbpedia.org/resource/MP3_player', 'ex:MP3_player', 9072, 9075)\n",
      "('CFR', 'http://dbpedia.org/resource/Code_of_Federal_Regulations', 'DBpedia:WrittenWork', 9092, 9095)\n",
      "('Mexico', 'http://dbpedia.org/resource/Mexico', 'DBpedia:PopulatedPlace', 9131, 9137)\n",
      "('H1', 'http://dbpedia.org/resource/Tau_protein', 'ex:Tau_protein', 9142, 9144)\n",
      "('CFR', 'http://dbpedia.org/resource/Code_of_Federal_Regulations', 'DBpedia:WrittenWork', 9207, 9210)\n",
      "('CFR', 'http://dbpedia.org/resource/Code_of_Federal_Regulations', 'DBpedia:WrittenWork', 9241, 9244)\n",
      "('Morocco', 'http://dbpedia.org/resource/Morocco', 'DBpedia:PopulatedPlace', 9275, 9282)\n",
      "('CFR', 'http://dbpedia.org/resource/Code_of_Federal_Regulations', 'DBpedia:WrittenWork', 9319, 9322)\n",
      "('PhosAgro', 'http://dbpedia.org/resource/PhosAgro', 'DBpedia:Organisation', 9508, 9516)\n",
      "('Argentina', 'http://dbpedia.org/resource/Argentina', 'DBpedia:PopulatedPlace', 9621, 9630)\n",
      "('Mexico', 'http://dbpedia.org/resource/Mexico', 'DBpedia:PopulatedPlace', 9657, 9663)\n",
      "('Argentina', 'http://dbpedia.org/resource/Argentina', 'DBpedia:PopulatedPlace', 9712, 9721)\n",
      "('Uruguay', 'http://dbpedia.org/resource/Uruguay', 'DBpedia:PopulatedPlace', 9722, 9729)\n",
      "('Mexico', 'http://dbpedia.org/resource/Mexico', 'DBpedia:PopulatedPlace', 9762, 9768)\n",
      "('CFR', 'http://dbpedia.org/resource/Code_of_Federal_Regulations', 'DBpedia:WrittenWork', 9831, 9834)\n",
      "('CFR', 'http://dbpedia.org/resource/Code_of_Federal_Regulations', 'DBpedia:WrittenWork', 9900, 9903)\n",
      "('Argentina', 'http://dbpedia.org/resource/Argentina', 'DBpedia:PopulatedPlace', 9916, 9925)\n",
      "('barley', 'http://dbpedia.org/resource/Barley', 'DBpedia:Species', 10075, 10081)\n",
      "('corn', 'http://dbpedia.org/resource/Wheat', 'DBpedia:Species', 10096, 10100)\n",
      "('soybean', 'http://dbpedia.org/resource/Soybean', 'DBpedia:Species', 10105, 10112)\n",
      "('USDA', 'http://dbpedia.org/resource/United_States_Department_of_Agriculture', 'DBpedia:Organisation', 10285, 10289)\n",
      "('attaché', 'http://dbpedia.org/resource/Briefcase', 'ex:Briefcase', 10290, 10297)\n",
      "('corn', 'http://dbpedia.org/resource/Wheat', 'DBpedia:Species', 10320, 10324)\n",
      "('fertilizer', 'http://dbpedia.org/resource/Fertilizer', 'ex:Fertilizer', 10447, 10457)\n",
      "('Mexico', 'http://dbpedia.org/resource/Mexico', 'DBpedia:PopulatedPlace', 10467, 10473)\n",
      "('Argentina', 'http://dbpedia.org/resource/Argentina', 'DBpedia:PopulatedPlace', 10488, 10497)\n",
      "('Argentina', 'http://dbpedia.org/resource/Argentina', 'DBpedia:PopulatedPlace', 10602, 10611)\n",
      "('CFR', 'http://dbpedia.org/resource/Code_of_Federal_Regulations', 'DBpedia:WrittenWork', 10661, 10664)\n",
      "('CFR', 'http://dbpedia.org/resource/Code_of_Federal_Regulations', 'DBpedia:WrittenWork', 10695, 10698)\n",
      "('Mexican', 'http://dbpedia.org/resource/Mexico', 'DBpedia:PopulatedPlace', 10792, 10799)\n",
      "('FOB', 'http://dbpedia.org/resource/Forward_operating_base', 'ex:Forward_operating_base', 11037, 11040)\n",
      "('FOB', 'http://dbpedia.org/resource/Forward_operating_base', 'ex:Forward_operating_base', 11065, 11068)\n",
      "('Brazil', 'http://dbpedia.org/resource/Brazil', 'DBpedia:PopulatedPlace', 11117, 11123)\n",
      "('CFR', 'http://dbpedia.org/resource/Code_of_Federal_Regulations', 'DBpedia:WrittenWork', 11162, 11165)\n",
      "('CFR', 'http://dbpedia.org/resource/Code_of_Federal_Regulations', 'DBpedia:WrittenWork', 11228, 11231)\n",
      "('DAP', 'http://dbpedia.org/resource/MP3_player', 'ex:MP3_player', 11280, 11283)\n",
      "('Brazil', 'http://dbpedia.org/resource/Brazil', 'DBpedia:PopulatedPlace', 11300, 11306)\n",
      "('DAP', 'http://dbpedia.org/resource/MP3_player', 'ex:MP3_player', 11353, 11356)\n",
      "('CFR', 'http://dbpedia.org/resource/Code_of_Federal_Regulations', 'DBpedia:WrittenWork', 11526, 11529)\n",
      "('CFR', 'http://dbpedia.org/resource/Code_of_Federal_Regulations', 'DBpedia:WrittenWork', 11573, 11576)\n",
      "('Brazil', 'http://dbpedia.org/resource/Brazil', 'DBpedia:PopulatedPlace', 12135, 12141)\n",
      "('CFR', 'http://dbpedia.org/resource/Code_of_Federal_Regulations', 'DBpedia:WrittenWork', 12169, 12172)\n",
      "('Central America', 'http://dbpedia.org/resource/Central_America', 'ex:Central_America', 12228, 12243)\n",
      "('DAP', 'http://dbpedia.org/resource/MP3_player', 'ex:MP3_player', 12270, 12273)\n",
      "('DAP', 'http://dbpedia.org/resource/MP3_player', 'ex:MP3_player', 12325, 12328)\n",
      "('Guatemala', 'http://dbpedia.org/resource/Guatemala', 'DBpedia:PopulatedPlace', 12380, 12389)\n",
      "('Nicaragua', 'http://dbpedia.org/resource/Nicaragua', 'DBpedia:PopulatedPlace', 12391, 12400)\n",
      "('Colombia', 'http://dbpedia.org/resource/Colombia', 'DBpedia:PopulatedPlace', 12405, 12413)\n",
      "('Colombia', 'http://dbpedia.org/resource/Colombia', 'DBpedia:PopulatedPlace', 12444, 12452)\n",
      "('Chile', 'http://dbpedia.org/resource/Chile', 'DBpedia:PopulatedPlace', 12470, 12475)\n",
      "('DAP', 'http://dbpedia.org/resource/MP3_player', 'ex:MP3_player', 12481, 12484)\n",
      "('Allied', 'http://dbpedia.org/resource/Allies_of_World_War_II', 'DBpedia:PopulatedPlace', 12568, 12574)\n",
      "('China', 'http://dbpedia.org/resource/China', 'DBpedia:PopulatedPlace', 12601, 12606)\n",
      "('DAP', 'http://dbpedia.org/resource/MP3_player', 'ex:MP3_player', 12627, 12630)\n",
      "('CFR', 'http://dbpedia.org/resource/Code_of_Federal_Regulations', 'DBpedia:WrittenWork', 12658, 12661)\n",
      "('CFR', 'http://dbpedia.org/resource/Code_of_Federal_Regulations', 'DBpedia:WrittenWork', 12714, 12717)\n",
      "('Turkey', 'http://dbpedia.org/resource/Turkey', 'DBpedia:PopulatedPlace', 12727, 12733)\n",
      "('DAP', 'http://dbpedia.org/resource/MP3_player', 'ex:MP3_player', 12777, 12780)\n",
      "('Lithuanian', 'http://dbpedia.org/resource/Lithuania', 'DBpedia:PopulatedPlace', 12917, 12927)\n",
      "('DAP', 'http://dbpedia.org/resource/MP3_player', 'ex:MP3_player', 12928, 12931)\n",
      "('Tunisia', 'http://dbpedia.org/resource/Tunisia', 'DBpedia:PopulatedPlace', 13036, 13043)\n",
      "('DAP', 'http://dbpedia.org/resource/MP3_player', 'ex:MP3_player', 13119, 13122)\n",
      "('Tunisia', 'http://dbpedia.org/resource/Tunisia', 'DBpedia:PopulatedPlace', 13193, 13200)\n",
      "('DAP', 'http://dbpedia.org/resource/MP3_player', 'ex:MP3_player', 13233, 13236)\n",
      "('Gabes', 'http://dbpedia.org/resource/Gabès', 'DBpedia:Settlement', 13252, 13257)\n",
      "('rock', 'http://dbpedia.org/resource/Rock_music', 'DBpedia:TopicalConcept', 13322, 13326)\n",
      "('DAP', 'http://dbpedia.org/resource/MP3_player', 'ex:MP3_player', 13369, 13372)\n",
      "('Turkey', 'http://dbpedia.org/resource/Turkey', 'DBpedia:PopulatedPlace', 13459, 13465)\n",
      "('Rail transport', 'http://dbpedia.org/resource/Rail_transport', 'ex:Rail_transport', 13492, 13506)\n",
      "('Sfax', 'http://dbpedia.org/resource/Sfax', 'DBpedia:Settlement', 13543, 13547)\n",
      "('rock', 'http://dbpedia.org/resource/Rock_music', 'DBpedia:TopicalConcept', 13588, 13592)\n",
      "('phosphate', 'http://dbpedia.org/resource/Fertilizer', 'ex:Fertilizer', 13745, 13754)\n",
      "('Gafsa', 'http://dbpedia.org/resource/Gafsa', 'DBpedia:Settlement', 13912, 13917)\n",
      "('rock', 'http://dbpedia.org/resource/Rock_music', 'DBpedia:TopicalConcept', 14046, 14050)\n",
      "('Saudi Arabia', 'http://dbpedia.org/resource/Saudi_Arabia', 'DBpedia:PopulatedPlace', 14195, 14207)\n",
      "('India', 'http://dbpedia.org/resource/India', 'DBpedia:PopulatedPlace', 14248, 14253)\n",
      "('Pakistan', 'http://dbpedia.org/resource/Pakistan', 'DBpedia:PopulatedPlace', 14255, 14263)\n",
      "('Africa', 'http://dbpedia.org/resource/Africa', 'DBpedia:PopulatedPlace', 14268, 14274)\n",
      "('South Africa', 'http://dbpedia.org/resource/South_Africa', 'DBpedia:PopulatedPlace', 14283, 14295)\n",
      "('baseload', 'http://dbpedia.org/resource/Base_load_power_plant', 'ex:Base_load_power_plant', 14318, 14326)\n",
      "('India', 'http://dbpedia.org/resource/India', 'DBpedia:PopulatedPlace', 14382, 14387)\n",
      "('Saudi', 'http://dbpedia.org/resource/Saudi_Arabia', 'DBpedia:PopulatedPlace', 14508, 14513)\n",
      "('DAP', 'http://dbpedia.org/resource/MP3_player', 'ex:MP3_player', 14514, 14517)\n",
      "('India', 'http://dbpedia.org/resource/India', 'DBpedia:PopulatedPlace', 14521, 14526)\n",
      "('CFR', 'http://dbpedia.org/resource/Code_of_Federal_Regulations', 'DBpedia:WrittenWork', 14553, 14556)\n",
      "('Sabic', 'http://dbpedia.org/resource/SABIC', 'DBpedia:Organisation', 14563, 14568)\n",
      "('Africa', 'http://dbpedia.org/resource/Africa', 'DBpedia:PopulatedPlace', 14686, 14692)\n",
      "('FOB', 'http://dbpedia.org/resource/Forward_operating_base', 'ex:Forward_operating_base', 14756, 14759)\n",
      "('Morocco', 'http://dbpedia.org/resource/Morocco', 'DBpedia:PopulatedPlace', 14832, 14839)\n",
      "('DAP', 'http://dbpedia.org/resource/MP3_player', 'ex:MP3_player', 14862, 14865)\n",
      "('Brazil', 'http://dbpedia.org/resource/Brazil', 'DBpedia:PopulatedPlace', 14869, 14875)\n",
      "('DAP', 'http://dbpedia.org/resource/MP3_player', 'ex:MP3_player', 14947, 14950)\n",
      "('Brazil', 'http://dbpedia.org/resource/Brazil', 'DBpedia:PopulatedPlace', 14954, 14960)\n",
      "('CFR', 'http://dbpedia.org/resource/Code_of_Federal_Regulations', 'DBpedia:WrittenWork', 15010, 15013)\n",
      "('FOB', 'http://dbpedia.org/resource/Forward_operating_base', 'ex:Forward_operating_base', 15104, 15107)\n",
      "('DAP', 'http://dbpedia.org/resource/MP3_player', 'ex:MP3_player', 15172, 15175)\n",
      "('Europe', 'http://dbpedia.org/resource/European_Union', 'DBpedia:PopulatedPlace', 15183, 15189)\n",
      "('DAP', 'http://dbpedia.org/resource/MP3_player', 'ex:MP3_player', 15213, 15216)\n",
      "('Turkey', 'http://dbpedia.org/resource/Turkey', 'DBpedia:PopulatedPlace', 15221, 15227)\n",
      "('DAP', 'http://dbpedia.org/resource/MP3_player', 'ex:MP3_player', 15265, 15268)\n",
      "('Europe', 'http://dbpedia.org/resource/European_Union', 'DBpedia:PopulatedPlace', 15279, 15285)\n",
      "('FOB', 'http://dbpedia.org/resource/Forward_operating_base', 'ex:Forward_operating_base', 15318, 15321)\n",
      "('FOB', 'http://dbpedia.org/resource/Forward_operating_base', 'ex:Forward_operating_base', 15378, 15381)\n",
      "('DAP', 'http://dbpedia.org/resource/MP3_player', 'ex:MP3_player', 15399, 15402)\n",
      "('Brazil', 'http://dbpedia.org/resource/Brazil', 'DBpedia:PopulatedPlace', 15407, 15413)\n",
      "('CFR', 'http://dbpedia.org/resource/Code_of_Federal_Regulations', 'DBpedia:WrittenWork', 15425, 15428)\n",
      "('FOB', 'http://dbpedia.org/resource/Forward_operating_base', 'ex:Forward_operating_base', 15444, 15447)\n",
      "('CFR', 'http://dbpedia.org/resource/Code_of_Federal_Regulations', 'DBpedia:WrittenWork', 15478, 15481)\n",
      "('FOB', 'http://dbpedia.org/resource/Forward_operating_base', 'ex:Forward_operating_base', 15497, 15500)\n",
      "('DAP', 'http://dbpedia.org/resource/MP3_player', 'ex:MP3_player', 15517, 15520)\n",
      "('DAP', 'http://dbpedia.org/resource/MP3_player', 'ex:MP3_player', 15545, 15548)\n",
      "('CFR', 'http://dbpedia.org/resource/Code_of_Federal_Regulations', 'DBpedia:WrittenWork', 15565, 15568)\n",
      "('FOB', 'http://dbpedia.org/resource/Forward_operating_base', 'ex:Forward_operating_base', 15603, 15606)\n",
      "('CFR', 'http://dbpedia.org/resource/Code_of_Federal_Regulations', 'DBpedia:WrittenWork', 15709, 15712)\n",
      "('DAP', 'http://dbpedia.org/resource/MP3_player', 'ex:MP3_player', 15730, 15733)\n",
      "('Africa', 'http://dbpedia.org/resource/Africa', 'DBpedia:PopulatedPlace', 15743, 15749)\n",
      "('South Africa', 'http://dbpedia.org/resource/South_Africa', 'DBpedia:PopulatedPlace', 15778, 15790)\n",
      "('Benin', 'http://dbpedia.org/resource/Benin', 'DBpedia:PopulatedPlace', 15805, 15810)\n",
      "('Nigeria', 'http://dbpedia.org/resource/Nigeria', 'DBpedia:PopulatedPlace', 15815, 15822)\n",
      "('DAP', 'http://dbpedia.org/resource/MP3_player', 'ex:MP3_player', 15835, 15838)\n",
      "('Bangladesh', 'http://dbpedia.org/resource/Bangladesh', 'DBpedia:PopulatedPlace', 15848, 15858)\n",
      "('DAP', 'http://dbpedia.org/resource/MP3_player', 'ex:MP3_player', 15922, 15925)\n",
      "('Moroccan', 'http://dbpedia.org/resource/Morocco', 'DBpedia:PopulatedPlace', 15935, 15943)\n",
      "('DAP', 'http://dbpedia.org/resource/MP3_player', 'ex:MP3_player', 16027, 16030)\n",
      "('PotashCorp', 'http://dbpedia.org/resource/PotashCorp', 'DBpedia:Organisation', 16067, 16077)\n",
      "('Koch', 'http://dbpedia.org/resource/Ed_Koch', 'DBpedia:Person', 16082, 16086)\n",
      "('Brazil', 'http://dbpedia.org/resource/Brazil', 'DBpedia:PopulatedPlace', 16114, 16120)\n",
      "('DAP', 'http://dbpedia.org/resource/MP3_player', 'ex:MP3_player', 16137, 16140)\n",
      "('DAP', 'http://dbpedia.org/resource/MP3_player', 'ex:MP3_player', 16210, 16213)\n",
      "('P2O5', 'http://dbpedia.org/resource/Phosphorus_pentoxide', 'DBpedia:ChemicalSubstance', 16244, 16248)\n",
      "('DAP', 'http://dbpedia.org/resource/MP3_player', 'ex:MP3_player', 16286, 16289)\n",
      "('acid', 'http://dbpedia.org/resource/Acid', 'ex:Acid', 16323, 16327)\n",
      "('acid', 'http://dbpedia.org/resource/Acid', 'ex:Acid', 16465, 16469)\n",
      "('India', 'http://dbpedia.org/resource/India', 'DBpedia:PopulatedPlace', 16598, 16603)\n",
      "('Ethiopia', 'http://dbpedia.org/resource/Ethiopia', 'DBpedia:PopulatedPlace', 16714, 16722)\n",
      "('P2O5', 'http://dbpedia.org/resource/Phosphorus_pentoxide', 'DBpedia:ChemicalSubstance', 17157, 17161)\n",
      "('Pakistan', 'http://dbpedia.org/resource/Pakistan', 'DBpedia:PopulatedPlace', 17222, 17230)\n",
      "('DAP', 'http://dbpedia.org/resource/MP3_player', 'ex:MP3_player', 17243, 17246)\n",
      "('NFDC', 'http://dbpedia.org/resource/National_Film_Development_Corporation_of_India', 'DBpedia:Organisation', 17285, 17289)\n",
      "('DAP', 'http://dbpedia.org/resource/MP3_player', 'ex:MP3_player', 17322, 17325)\n",
      "('Kharif', 'http://dbpedia.org/resource/Kharif_crop', 'ex:Kharif_crop', 17347, 17353)\n",
      "('Chinese', 'http://dbpedia.org/resource/China', 'DBpedia:PopulatedPlace', 17741, 17748)\n",
      "('China', 'http://dbpedia.org/resource/China', 'DBpedia:PopulatedPlace', 17796, 17801)\n",
      "('CFR', 'http://dbpedia.org/resource/Code_of_Federal_Regulations', 'DBpedia:WrittenWork', 17822, 17825)\n",
      "('CFR', 'http://dbpedia.org/resource/Code_of_Federal_Regulations', 'DBpedia:WrittenWork', 17996, 17999)\n",
      "('Chinese', 'http://dbpedia.org/resource/China', 'DBpedia:PopulatedPlace', 18009, 18016)\n",
      "('Saudi', 'http://dbpedia.org/resource/Saudi_Arabia', 'DBpedia:PopulatedPlace', 18021, 18026)\n",
      "('India', 'http://dbpedia.org/resource/India', 'DBpedia:PopulatedPlace', 18037, 18042)\n",
      "('DAP', 'http://dbpedia.org/resource/MP3_player', 'ex:MP3_player', 18074, 18077)\n",
      "('DAP', 'http://dbpedia.org/resource/MP3_player', 'ex:MP3_player', 18162, 18165)\n",
      "('Mumbai Port Trust', 'http://dbpedia.org/resource/Mumbai_Port_Trust', 'ex:Mumbai_Port_Trust', 18228, 18245)\n",
      "('H1', 'http://dbpedia.org/resource/Tau_protein', 'ex:Tau_protein', 18265, 18267)\n",
      "('H1', 'http://dbpedia.org/resource/Tau_protein', 'ex:Tau_protein', 18296, 18298)\n",
      "('India', 'http://dbpedia.org/resource/India', 'DBpedia:PopulatedPlace', 18364, 18369)\n",
      "('IMD', 'http://dbpedia.org/resource/India_Meteorological_Department', 'DBpedia:Organisation', 18371, 18374)\n",
      "('monsoon', 'http://dbpedia.org/resource/Monsoon', 'ex:Monsoon', 18400, 18407)\n",
      "('Indian Meteorological Department', 'http://dbpedia.org/resource/India_Meteorological_Department', 'DBpedia:Organisation', 18446, 18478)\n",
      "('IMD', 'http://dbpedia.org/resource/India_Meteorological_Department', 'DBpedia:Organisation', 18480, 18483)\n",
      "('monsoon', 'http://dbpedia.org/resource/Monsoon', 'ex:Monsoon', 18535, 18542)\n",
      "('monsoon', 'http://dbpedia.org/resource/Monsoon', 'ex:Monsoon', 18739, 18746)\n",
      "('India', 'http://dbpedia.org/resource/India', 'DBpedia:PopulatedPlace', 18994, 18999)\n",
      "('CFR', 'http://dbpedia.org/resource/Code_of_Federal_Regulations', 'DBpedia:WrittenWork', 19239, 19242)\n",
      "('CFR', 'http://dbpedia.org/resource/Code_of_Federal_Regulations', 'DBpedia:WrittenWork', 19357, 19360)\n",
      "('Chinese', 'http://dbpedia.org/resource/China', 'DBpedia:PopulatedPlace', 19385, 19392)\n",
      "('DAP', 'http://dbpedia.org/resource/MP3_player', 'ex:MP3_player', 19393, 19396)\n",
      "('CFR', 'http://dbpedia.org/resource/Code_of_Federal_Regulations', 'DBpedia:WrittenWork', 19435, 19438)\n",
      "('CFR', 'http://dbpedia.org/resource/Code_of_Federal_Regulations', 'DBpedia:WrittenWork', 19572, 19575)\n",
      "('China', 'http://dbpedia.org/resource/China', 'DBpedia:PopulatedPlace', 19606, 19611)\n",
      "('CFR', 'http://dbpedia.org/resource/Code_of_Federal_Regulations', 'DBpedia:WrittenWork', 19678, 19681)\n",
      "('India', 'http://dbpedia.org/resource/India', 'DBpedia:PopulatedPlace', 19804, 19809)\n",
      "('rupee', 'http://dbpedia.org/resource/Indian_rupee', 'DBpedia:Currency', 19822, 19827)\n",
      "('USD', 'http://dbpedia.org/resource/United_States_dollar', 'DBpedia:Currency', 19851, 19854)\n",
      "('monsoon', 'http://dbpedia.org/resource/Monsoon', 'ex:Monsoon', 19953, 19960)\n",
      "('DAP', 'http://dbpedia.org/resource/MP3_player', 'ex:MP3_player', 20117, 20120)\n",
      "('bode', 'http://dbpedia.org/resource/Wilhelm_von_Bode', 'DBpedia:Person', 20221, 20225)\n",
      "('DAP', 'http://dbpedia.org/resource/MP3_player', 'ex:MP3_player', 20235, 20238)\n",
      "('monsoon', 'http://dbpedia.org/resource/Monsoon', 'ex:Monsoon', 20264, 20271)\n",
      "('OCEANIA', 'http://dbpedia.org/resource/Oceania', 'DBpedia:PopulatedPlace', 20375, 20382)\n",
      "('China', 'http://dbpedia.org/resource/China', 'DBpedia:PopulatedPlace', 20383, 20388)\n",
      "('FOB', 'http://dbpedia.org/resource/Forward_operating_base', 'ex:Forward_operating_base', 20411, 20414)\n",
      "('Chinese', 'http://dbpedia.org/resource/China', 'DBpedia:PopulatedPlace', 20443, 20450)\n",
      "('DAP', 'http://dbpedia.org/resource/MP3_player', 'ex:MP3_player', 20451, 20454)\n",
      "('FOB', 'http://dbpedia.org/resource/Forward_operating_base', 'ex:Forward_operating_base', 20515, 20518)\n",
      "('DAP', 'http://dbpedia.org/resource/MP3_player', 'ex:MP3_player', 20538, 20541)\n",
      "('FOB', 'http://dbpedia.org/resource/Forward_operating_base', 'ex:Forward_operating_base', 20612, 20615)\n",
      "('India', 'http://dbpedia.org/resource/India', 'DBpedia:PopulatedPlace', 20724, 20729)\n",
      "('Pakistan', 'http://dbpedia.org/resource/Pakistan', 'DBpedia:PopulatedPlace', 20733, 20741)\n",
      "('DAP', 'http://dbpedia.org/resource/MP3_player', 'ex:MP3_player', 20770, 20773)\n",
      "('DAP', 'http://dbpedia.org/resource/MP3_player', 'ex:MP3_player', 20777, 20780)\n",
      "('nutrient', 'http://dbpedia.org/resource/Soil', 'ex:Soil', 20787, 20795)\n",
      "('DAP', 'http://dbpedia.org/resource/MP3_player', 'ex:MP3_player', 20841, 20844)\n",
      "('FOB', 'http://dbpedia.org/resource/Forward_operating_base', 'ex:Forward_operating_base', 20881, 20884)\n",
      "('barge', 'http://dbpedia.org/resource/Barge', 'ex:Barge', 20957, 20962)\n",
      "('FOB', 'http://dbpedia.org/resource/Forward_operating_base', 'ex:Forward_operating_base', 20987, 20990)\n",
      "('NOLA', 'http://dbpedia.org/resource/New_Orleans', 'DBpedia:Settlement', 20991, 20995)\n",
      "('Allied', 'http://dbpedia.org/resource/Allies_of_World_War_II', 'DBpedia:PopulatedPlace', 21053, 21059)\n",
      "('DAP', 'http://dbpedia.org/resource/MP3_player', 'ex:MP3_player', 21104, 21107)\n",
      "('Central America', 'http://dbpedia.org/resource/Central_America', 'ex:Central_America', 21113, 21128)\n",
      "('FOB', 'http://dbpedia.org/resource/Forward_operating_base', 'ex:Forward_operating_base', 21185, 21188)\n",
      "('Chinese', 'http://dbpedia.org/resource/China', 'DBpedia:PopulatedPlace', 21195, 21202)\n",
      "('DAP', 'http://dbpedia.org/resource/MP3_player', 'ex:MP3_player', 21203, 21206)\n",
      "('India', 'http://dbpedia.org/resource/India', 'DBpedia:PopulatedPlace', 21275, 21280)\n",
      "('Pakistan', 'http://dbpedia.org/resource/Pakistan', 'DBpedia:PopulatedPlace', 21285, 21293)\n",
      "('Chinese', 'http://dbpedia.org/resource/China', 'DBpedia:PopulatedPlace', 21344, 21351)\n",
      "('DAP', 'http://dbpedia.org/resource/MP3_player', 'ex:MP3_player', 21392, 21395)\n",
      "('FOB', 'http://dbpedia.org/resource/Forward_operating_base', 'ex:Forward_operating_base', 21419, 21422)\n",
      "('Allied', 'http://dbpedia.org/resource/Allies_of_World_War_II', 'DBpedia:PopulatedPlace', 21466, 21472)\n",
      "('DAP', 'http://dbpedia.org/resource/MP3_player', 'ex:MP3_player', 21567, 21570)\n",
      "('Guatemala', 'http://dbpedia.org/resource/Guatemala', 'DBpedia:PopulatedPlace', 21574, 21583)\n",
      "('Chile', 'http://dbpedia.org/resource/Chile', 'DBpedia:PopulatedPlace', 21588, 21593)\n",
      "('FOB', 'http://dbpedia.org/resource/Forward_operating_base', 'ex:Forward_operating_base', 21634, 21637)\n",
      "('FOB', 'http://dbpedia.org/resource/Forward_operating_base', 'ex:Forward_operating_base', 21720, 21723)\n",
      "('China', 'http://dbpedia.org/resource/China', 'DBpedia:PopulatedPlace', 21724, 21729)\n",
      "('China', 'http://dbpedia.org/resource/China', 'DBpedia:PopulatedPlace', 21805, 21810)\n",
      "('VAT', 'http://dbpedia.org/resource/Value-added_tax', 'ex:Value-added_tax', 21833, 21836)\n",
      "('China', 'http://dbpedia.org/resource/China', 'DBpedia:PopulatedPlace', 21869, 21874)\n",
      "('VAT', 'http://dbpedia.org/resource/Value-added_tax', 'ex:Value-added_tax', 21891, 21894)\n",
      "('Chinese', 'http://dbpedia.org/resource/China', 'DBpedia:PopulatedPlace', 22061, 22068)\n",
      "('VAT', 'http://dbpedia.org/resource/Value-added_tax', 'ex:Value-added_tax', 22102, 22105)\n",
      "('fertilizer', 'http://dbpedia.org/resource/Fertilizer', 'ex:Fertilizer', 22109, 22119)\n",
      "('VAT', 'http://dbpedia.org/resource/Value-added_tax', 'ex:Value-added_tax', 22445, 22448)\n",
      "('VAT', 'http://dbpedia.org/resource/Value-added_tax', 'ex:Value-added_tax', 22782, 22785)\n",
      "('phosphate', 'http://dbpedia.org/resource/Fertilizer', 'ex:Fertilizer', 22800, 22809)\n",
      "('VAT', 'http://dbpedia.org/resource/Value-added_tax', 'ex:Value-added_tax', 22958, 22961)\n",
      "('VAT', 'http://dbpedia.org/resource/Value-added_tax', 'ex:Value-added_tax', 23020, 23023)\n",
      "('VAT', 'http://dbpedia.org/resource/Value-added_tax', 'ex:Value-added_tax', 23057, 23060)\n",
      "('rock', 'http://dbpedia.org/resource/Rock_music', 'DBpedia:TopicalConcept', 23145, 23149)\n",
      "('ammonia', 'http://dbpedia.org/resource/Ammonia', 'DBpedia:ChemicalSubstance', 23157, 23164)\n",
      "('VAT', 'http://dbpedia.org/resource/Value-added_tax', 'ex:Value-added_tax', 23274, 23277)\n",
      "('VAT', 'http://dbpedia.org/resource/Value-added_tax', 'ex:Value-added_tax', 23323, 23326)\n",
      "('VAT', 'http://dbpedia.org/resource/Value-added_tax', 'ex:Value-added_tax', 23378, 23381)\n",
      "('VAT', 'http://dbpedia.org/resource/Value-added_tax', 'ex:Value-added_tax', 23478, 23481)\n",
      "('DAP', 'http://dbpedia.org/resource/MP3_player', 'ex:MP3_player', 23503, 23506)\n",
      "('phosphate', 'http://dbpedia.org/resource/Fertilizer', 'ex:Fertilizer', 23803, 23812)\n",
      "('potash', 'http://dbpedia.org/resource/Potash', 'ex:Potash', 23817, 23823)\n",
      "('VAT', 'http://dbpedia.org/resource/Value-added_tax', 'ex:Value-added_tax', 23849, 23852)\n",
      "('Morocco', 'http://dbpedia.org/resource/Morocco', 'DBpedia:PopulatedPlace', 23888, 23895)\n",
      "('Tunisia', 'http://dbpedia.org/resource/Tunisia', 'DBpedia:PopulatedPlace', 23900, 23907)\n",
      "('DAP', 'http://dbpedia.org/resource/MP3_player', 'ex:MP3_player', 23992, 23995)\n",
      "('China', 'http://dbpedia.org/resource/China', 'DBpedia:PopulatedPlace', 23999, 24004)\n",
      "('Chinese', 'http://dbpedia.org/resource/China', 'DBpedia:PopulatedPlace', 24103, 24110)\n",
      "('VAT', 'http://dbpedia.org/resource/Value-added_tax', 'ex:Value-added_tax', 24335, 24338)\n",
      "('VAT', 'http://dbpedia.org/resource/Value-added_tax', 'ex:Value-added_tax', 24638, 24641)\n",
      "('ACID', 'http://dbpedia.org/resource/ACID', 'ex:ACID', 24728, 24732)\n",
      "('Senegal', 'http://dbpedia.org/resource/Senegal', 'DBpedia:PopulatedPlace', 24756, 24763)\n",
      "('H1', 'http://dbpedia.org/resource/Tau_protein', 'ex:Tau_protein', 24910, 24912)\n",
      "('P2O5', 'http://dbpedia.org/resource/Phosphorus_pentoxide', 'DBpedia:ChemicalSubstance', 24993, 24997)\n",
      "('P2O5', 'http://dbpedia.org/resource/Phosphorus_pentoxide', 'DBpedia:ChemicalSubstance', 25045, 25049)\n",
      "('India', 'http://dbpedia.org/resource/India', 'DBpedia:PopulatedPlace', 25113, 25118)\n",
      "('P2O5', 'http://dbpedia.org/resource/Phosphorus_pentoxide', 'DBpedia:ChemicalSubstance', 25145, 25149)\n",
      "('acid', 'http://dbpedia.org/resource/Acid', 'ex:Acid', 25161, 25165)\n",
      "('rock', 'http://dbpedia.org/resource/Rock_music', 'DBpedia:TopicalConcept', 25189, 25193)\n",
      "('Senegal', 'http://dbpedia.org/resource/Senegal', 'DBpedia:PopulatedPlace', 25207, 25214)\n",
      "('H1', 'http://dbpedia.org/resource/Tau_protein', 'ex:Tau_protein', 25331, 25333)\n",
      "('Spain', 'http://dbpedia.org/resource/Spain', 'DBpedia:PopulatedPlace', 25351, 25356)\n",
      "('Grupa Azoty', 'http://dbpedia.org/resource/Grupa_Azoty', 'DBpedia:Organisation', 25361, 25372)\n",
      "('Poland', 'http://dbpedia.org/resource/Poland', 'DBpedia:PopulatedPlace', 25373, 25379)\n",
      "('Switzerland', 'http://dbpedia.org/resource/Switzerland', 'DBpedia:PopulatedPlace', 25491, 25502)\n",
      "('H1', 'http://dbpedia.org/resource/Tau_protein', 'ex:Tau_protein', 25640, 25642)\n",
      "('Syria', 'http://dbpedia.org/resource/Syria', 'DBpedia:PopulatedPlace', 25670, 25675)\n",
      "('India', 'http://dbpedia.org/resource/India', 'DBpedia:PopulatedPlace', 25700, 25705)\n",
      "('acid', 'http://dbpedia.org/resource/Acid', 'ex:Acid', 25791, 25795)\n",
      "('Morocco', 'http://dbpedia.org/resource/Morocco', 'DBpedia:PopulatedPlace', 25806, 25813)\n",
      "('Jordan', 'http://dbpedia.org/resource/Jordan', 'DBpedia:PopulatedPlace', 25818, 25824)\n",
      "('P2O5', 'http://dbpedia.org/resource/Phosphorus_pentoxide', 'DBpedia:ChemicalSubstance', 26037, 26041)\n",
      "('Morocco', 'http://dbpedia.org/resource/Morocco', 'DBpedia:PopulatedPlace', 26068, 26075)\n",
      "('Jordan', 'http://dbpedia.org/resource/Jordan', 'DBpedia:PopulatedPlace', 26095, 26101)\n",
      "('Lao Cai', 'http://dbpedia.org/resource/Lào_Cai', 'DBpedia:Settlement', 26191, 26198)\n",
      "('Vietnam', 'http://dbpedia.org/resource/Vietnam', 'DBpedia:PopulatedPlace', 26200, 26207)\n",
      "('CFR', 'http://dbpedia.org/resource/Code_of_Federal_Regulations', 'DBpedia:WrittenWork', 26266, 26269)\n",
      "('India', 'http://dbpedia.org/resource/India', 'DBpedia:PopulatedPlace', 26270, 26275)\n",
      "('acid', 'http://dbpedia.org/resource/Acid', 'ex:Acid', 26287, 26291)\n",
      "('Bangladesh', 'http://dbpedia.org/resource/Bangladesh', 'DBpedia:PopulatedPlace', 26363, 26373)\n",
      "('acid', 'http://dbpedia.org/resource/Acid', 'ex:Acid', 26462, 26466)\n",
      "('Chittagong', 'http://dbpedia.org/resource/Chittagong', 'DBpedia:Settlement', 26532, 26542)\n",
      "('30 days', 'http://dbpedia.org/resource/30_Days_(TV_series)', 'DBpedia:Work', 26543, 26550)\n",
      "('Aries', 'http://dbpedia.org/resource/Plymouth_Reliant', 'DBpedia:MeanOfTransportation', 26675, 26680)\n",
      "('Fertilizer', 'http://dbpedia.org/resource/Fertilizer', 'ex:Fertilizer', 26681, 26691)\n",
      "('CFR', 'http://dbpedia.org/resource/Code_of_Federal_Regulations', 'DBpedia:WrittenWork', 26731, 26734)\n",
      "('India', 'http://dbpedia.org/resource/India', 'DBpedia:PopulatedPlace', 26761, 26766)\n",
      "('South Africa', 'http://dbpedia.org/resource/South_Africa', 'DBpedia:PopulatedPlace', 26768, 26780)\n",
      "('Jordan', 'http://dbpedia.org/resource/Jordan', 'DBpedia:PopulatedPlace', 26784, 26790)\n",
      "('DAP', 'http://dbpedia.org/resource/MP3_player', 'ex:MP3_player', 26865, 26868)\n",
      "('Chittagong', 'http://dbpedia.org/resource/Chittagong', 'DBpedia:Settlement', 26878, 26888)\n",
      "('Aries', 'http://dbpedia.org/resource/Plymouth_Reliant', 'DBpedia:MeanOfTransportation', 26920, 26925)\n",
      "('Fertilizer', 'http://dbpedia.org/resource/Fertilizer', 'ex:Fertilizer', 26926, 26936)\n",
      "('CFR', 'http://dbpedia.org/resource/Code_of_Federal_Regulations', 'DBpedia:WrittenWork', 26977, 26980)\n",
      "('India', 'http://dbpedia.org/resource/India', 'DBpedia:PopulatedPlace', 27018, 27023)\n",
      "('rock', 'http://dbpedia.org/resource/Rock_music', 'DBpedia:TopicalConcept', 27144, 27148)\n",
      "('P2O5', 'http://dbpedia.org/resource/Phosphorus_pentoxide', 'DBpedia:ChemicalSubstance', 27154, 27158)\n",
      "('BPL', 'http://dbpedia.org/resource/Broadband_over_power_lines', 'ex:Broadband_over_power_lines', 27163, 27166)\n",
      "('rock', 'http://dbpedia.org/resource/Rock_music', 'DBpedia:TopicalConcept', 27249, 27253)\n",
      "('P2O5', 'http://dbpedia.org/resource/Phosphorus_pentoxide', 'DBpedia:ChemicalSubstance', 27263, 27267)\n",
      "('rock', 'http://dbpedia.org/resource/Rock_music', 'DBpedia:TopicalConcept', 27296, 27300)\n",
      "('P2O5', 'http://dbpedia.org/resource/Phosphorus_pentoxide', 'DBpedia:ChemicalSubstance', 27310, 27314)\n",
      "('kalyan', 'http://dbpedia.org/resource/Kalyan_Junction_railway_station', 'DBpedia:Station', 27323, 27329)\n",
      "('rock', 'http://dbpedia.org/resource/Rock_music', 'DBpedia:TopicalConcept', 27367, 27371)\n",
      "('P2O5', 'http://dbpedia.org/resource/Phosphorus_pentoxide', 'DBpedia:ChemicalSubstance', 27383, 27387)\n",
      "('Sun International', 'http://dbpedia.org/resource/Sun_International', 'ex:Sun_International', 27396, 27413)\n",
      "('H2', 'http://dbpedia.org/resource/Hydrogen', 'ex:Hydrogen', 27469, 27471)\n",
      "('H1', 'http://dbpedia.org/resource/Tau_protein', 'ex:Tau_protein', 27479, 27481)\n",
      "('H1', 'http://dbpedia.org/resource/Tau_protein', 'ex:Tau_protein', 27550, 27552)\n",
      "('30 days', 'http://dbpedia.org/resource/30_Days_(TV_series)', 'DBpedia:Work', 27587, 27594)\n",
      "('India', 'http://dbpedia.org/resource/India', 'DBpedia:PopulatedPlace', 27596, 27601)\n",
      "('Egypt', 'http://dbpedia.org/resource/Egypt', 'DBpedia:PopulatedPlace', 27603, 27608)\n",
      "('Morocco', 'http://dbpedia.org/resource/Morocco', 'DBpedia:PopulatedPlace', 27613, 27620)\n",
      "('rock', 'http://dbpedia.org/resource/Rock_music', 'DBpedia:TopicalConcept', 27630, 27634)\n",
      "('rock', 'http://dbpedia.org/resource/Rock_music', 'DBpedia:TopicalConcept', 27702, 27706)\n",
      "('Egypt', 'http://dbpedia.org/resource/Egypt', 'DBpedia:PopulatedPlace', 27978, 27983)\n",
      "('Morocco', 'http://dbpedia.org/resource/Morocco', 'DBpedia:PopulatedPlace', 28197, 28204)\n",
      "('+44', 'http://dbpedia.org/resource/Telephone_numbers_in_the_United_Kingdom', 'ex:Telephone_numbers_in_the_United_Kingdom', 28326, 28329)\n",
      "('BK', 'http://dbpedia.org/resource/Burger_King', 'ex:Burger_King', 28384, 28386)\n",
      "('Morris', 'http://dbpedia.org/resource/Morris_Motors', 'DBpedia:Organisation', 28387, 28393)\n",
      "('North America', 'http://dbpedia.org/resource/United_States', 'DBpedia:PopulatedPlace', 28405, 28418)\n",
      "('Zhao', 'http://dbpedia.org/resource/Sima_Zhao', 'ex:Sima_Zhao', 28487, 28491)\n",
      "('China', 'http://dbpedia.org/resource/China', 'DBpedia:PopulatedPlace', 28507, 28512)\n",
      "('India', 'http://dbpedia.org/resource/India', 'DBpedia:PopulatedPlace', 28610, 28615)\n",
      "('+44', 'http://dbpedia.org/resource/Telephone_numbers_in_the_United_Kingdom', 'ex:Telephone_numbers_in_the_United_Kingdom', 28722, 28725)\n",
      "('+44', 'http://dbpedia.org/resource/Telephone_numbers_in_the_United_Kingdom', 'ex:Telephone_numbers_in_the_United_Kingdom', 28751, 28754)\n",
      "('+44', 'http://dbpedia.org/resource/Telephone_numbers_in_the_United_Kingdom', 'ex:Telephone_numbers_in_the_United_Kingdom', 28843, 28846)\n",
      "('fertilizer', 'http://dbpedia.org/resource/Fertilizer', 'ex:Fertilizer', 29646, 29656)\n",
      "('FW', 'http://dbpedia.org/resource/Firmware', 'ex:Firmware', 29691, 29693)\n",
      "('FW', 'http://dbpedia.org/resource/Firmware', 'ex:Firmware', 29796, 29798)\n",
      "('Fertilizer', 'http://dbpedia.org/resource/Fertilizer', 'ex:Fertilizer', 29840, 29850)\n",
      "('Fertilizer', 'http://dbpedia.org/resource/Fertilizer', 'ex:Fertilizer', 29860, 29870)\n",
      "('Fertilizer', 'http://dbpedia.org/resource/Fertilizer', 'ex:Fertilizer', 30089, 30099)\n",
      "('Charles', 'http://dbpedia.org/resource/Charles_II_of_England', 'DBpedia:Royalty', 30467, 30474)\n",
      "('Finchley Road', 'http://dbpedia.org/resource/Finchley_Road_tube_station', 'DBpedia:Station', 30490, 30503)\n",
      "('London', 'http://dbpedia.org/resource/London', 'DBpedia:Settlement', 30505, 30511)\n",
      "('NW3', 'http://dbpedia.org/resource/NW_postcode_area', 'DBpedia:Region', 30513, 30516)\n",
      "('Fax', 'http://dbpedia.org/resource/Fax', 'ex:Fax', 30546, 30549)\n",
      "('+44', 'http://dbpedia.org/resource/Telephone_numbers_in_the_United_Kingdom', 'ex:Telephone_numbers_in_the_United_Kingdom', 30551, 30554)\n"
     ]
    }
   ],
   "source": [
    "print(\"\\n\".join([str(elt) for elt in l]))"
   ]
  },
  {
   "cell_type": "markdown",
   "metadata": {},
   "source": [
    "# Coreference Resolution"
   ]
  },
  {
   "cell_type": "markdown",
   "metadata": {},
   "source": [
    "`java -mx4g -cp \"*\" edu.stanford.nlp.pipeline.StanfordCoreNLPServer -port 9000 -timeout 15000`"
   ]
  },
  {
   "cell_type": "code",
   "execution_count": 15,
   "metadata": {
    "ExecuteTime": {
     "end_time": "2018-10-08T13:40:34.966822Z",
     "start_time": "2018-10-08T13:40:34.954308Z"
    }
   },
   "outputs": [],
   "source": [
    "from pycorenlp import StanfordCoreNLP\n",
    "nlp = StanfordCoreNLP('http://localhost:9000')"
   ]
  },
  {
   "cell_type": "code",
   "execution_count": 16,
   "metadata": {
    "ExecuteTime": {
     "end_time": "2018-10-08T13:40:35.560497Z",
     "start_time": "2018-10-08T13:40:35.552171Z"
    }
   },
   "outputs": [],
   "source": [
    "def find_coreferences_text(data):\n",
    "    output = nlp.annotate(data, properties= {'annotators':'tokenize, ssplit, pos, lemma, ner, parse, dcoref','outputFormat':'json','ner.useSUTime':'false', 'timeout': '500000'})\n",
    "    return output"
   ]
  },
  {
   "cell_type": "code",
   "execution_count": 17,
   "metadata": {
    "ExecuteTime": {
     "end_time": "2018-10-08T13:48:57.875971Z",
     "start_time": "2018-10-08T13:40:36.243244Z"
    }
   },
   "outputs": [],
   "source": [
    "output = find_coreferences_text(data[0])"
   ]
  },
  {
   "cell_type": "code",
   "execution_count": 80,
   "metadata": {
    "ExecuteTime": {
     "end_time": "2018-10-05T19:34:43.334580Z",
     "start_time": "2018-10-05T19:34:43.318364Z"
    }
   },
   "outputs": [],
   "source": [
    "def extract_coreferences(ouput):\n",
    "    entities = []\n",
    "    for i in output['corefs'].keys():\n",
    "        if len(output['corefs'][i]) > 2:\n",
    "            entity = []\n",
    "            set_entity = set()\n",
    "            for ref in output['corefs'][i]:\n",
    "                if ref['text'] not in set_entity:\n",
    "                    entity.append((ref['text'], ref['startIndex']))\n",
    "                    set_entity.add(ref['text'])\n",
    "            entities.append(entity)\n",
    "    return entities"
   ]
  },
  {
   "cell_type": "code",
   "execution_count": null,
   "metadata": {
    "ExecuteTime": {
     "end_time": "2018-10-05T19:31:54.706739Z",
     "start_time": "2018-10-05T19:31:50.071651Z"
    }
   },
   "outputs": [],
   "source": [
    "output"
   ]
  },
  {
   "cell_type": "code",
   "execution_count": 81,
   "metadata": {
    "ExecuteTime": {
     "end_time": "2018-10-05T19:34:44.076285Z",
     "start_time": "2018-10-05T19:34:44.070361Z"
    }
   },
   "outputs": [],
   "source": [
    "results = extract_coreferences(output)"
   ]
  },
  {
   "cell_type": "code",
   "execution_count": 82,
   "metadata": {
    "ExecuteTime": {
     "end_time": "2018-10-05T19:34:45.093869Z",
     "start_time": "2018-10-05T19:34:45.085669Z"
    }
   },
   "outputs": [
    {
     "data": {
      "text/plain": [
       "[[('ANALYSIS China', 1), ('China', 27), ('FOB China', 16)],\n",
       " [('lower prices', 8), ('these lower prices', 3), ('The lower prices', 1)],\n",
       " [('The market', 10), ('it', 5)],\n",
       " [('fertilizer sales in China', 24), ('fertilizer sales', 15)],\n",
       " [('non-Indian', 31)],\n",
       " [('first', 40)],\n",
       " [('August shipment', 11)],\n",
       " [('some weaker prices', 16),\n",
       "  ('prices', 11),\n",
       "  ('the prices', 29),\n",
       "  ('our prices', 6)],\n",
       " [('non-Indian markets in the $ 450s/mt FOB', 31), ('non-Indian markets', 12)],\n",
       " [('the $ 450s/mt FOB', 34)],\n",
       " [('August', 43), ('early August', 56)],\n",
       " [('last year', 44), ('the year', 18), ('this year', 19)],\n",
       " [('18-46-0', 14), ('18-46-0 , i.e. product', 28), ('i.e. product', 30)],\n",
       " [('Suppliers looking to place lighter coloured product or product that is not guaranteed 18-46-0',\n",
       "   1),\n",
       "  ('suppliers', 8)],\n",
       " [('India', 12), ('it', 16)],\n",
       " [('Pakistan', 14), ('S. INDIAN SUBCONTINENT Pakistan', 25)],\n",
       " [('US', 14), ('United Suppliers', 52), ('US Gulf', 26)],\n",
       " [('the US', 13),\n",
       "  ('the US which with a $ 15/mt freight could be priced on a barge in the low-mid $ 430s/st FOB NOLA',\n",
       "   16)],\n",
       " [('September and October', 14),\n",
       "  ('August and September', 43),\n",
       "  ('July and August', 27)],\n",
       " [('September', 14),\n",
       "  ('late September', 12),\n",
       "  ('early September', 22),\n",
       "  ('September/October', 8),\n",
       "  ('its', 14),\n",
       "  ('H1 September', 52)]]"
      ]
     },
     "execution_count": 82,
     "metadata": {},
     "output_type": "execute_result"
    }
   ],
   "source": [
    "results[:20]"
   ]
  },
  {
   "cell_type": "code",
   "execution_count": 30,
   "metadata": {
    "ExecuteTime": {
     "end_time": "2018-10-05T18:56:17.012938Z",
     "start_time": "2018-10-05T18:56:16.971600Z"
    }
   },
   "outputs": [],
   "source": [
    "def resolve(corenlp_output):\n",
    "    \"\"\" Transfer the word form of the antecedent to its associated pronominal anaphor(s) \"\"\"\n",
    "    for coref in corenlp_output['corefs']:\n",
    "        mentions = corenlp_output['corefs'][coref]\n",
    "        antecedent = mentions[0]  # the antecedent is the first mention in the coreference chain\n",
    "        print(antecedent)\n",
    "        for j in range(1, len(mentions)):\n",
    "            mention = mentions[j]\n",
    "            if mention['type'] == 'PRONOMINAL':\n",
    "                # get the attributes of the target mention in the corresponding sentence\n",
    "                target_sentence = mention['sentNum']\n",
    "                target_token = mention['startIndex'] - 1\n",
    "                # transfer the antecedent's word form to the appropriate token in the sentence\n",
    "                corenlp_output['sentences'][target_sentence - 1]['tokens'][target_token]['word'] = antecedent['text']\n",
    "\n",
    "\n",
    "def print_resolved(corenlp_output):\n",
    "    \"\"\" Print the \"resolved\" output \"\"\"\n",
    "    possessives = ['hers', 'his', 'their', 'theirs']\n",
    "    for sentence in corenlp_output['sentences']:\n",
    "        for token in sentence['tokens']:\n",
    "            output_word = token['word']\n",
    "            # check lemmas as well as tags for possessive pronouns in case of tagging errors\n",
    "            if token['lemma'] in possessives or token['pos'] == 'PRP$':\n",
    "                output_word += \"'s\"  # add the possessive morpheme\n",
    "            output_word += token['after']\n",
    "            print(output_word, end='')"
   ]
  },
  {
   "cell_type": "code",
   "execution_count": 16,
   "metadata": {
    "ExecuteTime": {
     "end_time": "2018-10-05T18:44:30.387855Z",
     "start_time": "2018-10-05T18:44:30.216377Z"
    }
   },
   "outputs": [],
   "source": [
    "text = \"Obama was president of the USA. He was born in Hawaii.\"\n",
    "\n",
    "output = nlp.annotate(text, properties= {'annotators':'dcoref','outputFormat':'json','ner.useSUTime':'false'})"
   ]
  },
  {
   "cell_type": "markdown",
   "metadata": {},
   "source": [
    "# Relation Extractor"
   ]
  },
  {
   "cell_type": "code",
   "execution_count": 4,
   "metadata": {
    "ExecuteTime": {
     "end_time": "2018-10-06T18:55:17.515880Z",
     "start_time": "2018-10-06T18:55:17.511324Z"
    }
   },
   "outputs": [],
   "source": [
    "import os\n",
    "from argparse import ArgumentParser\n",
    "from subprocess import Popen\n",
    "from sys import argv\n",
    "from sys import stderr"
   ]
  },
  {
   "cell_type": "code",
   "execution_count": 30,
   "metadata": {
    "ExecuteTime": {
     "end_time": "2018-10-06T20:45:17.996004Z",
     "start_time": "2018-10-06T20:45:17.975588Z"
    }
   },
   "outputs": [],
   "source": [
    "def stanford_ie(input_filename, path_to_stanford_jar, verbose=True):\n",
    "\n",
    "    command = f'cd {path_to_stanford_jar}; java -mx2g -cp \"*\" edu.stanford.nlp.naturalli.OpenIE {input_filename} -format ollie > ../out.txt'\n",
    "\n",
    "    if verbose:\n",
    "        print('Executing command = {}'.format(command), verbose)\n",
    "        # java_process = Popen(command, stdout=stderr, shell=True)\n",
    "        java_process = Popen(command, shell=True)\n",
    "    else:\n",
    "        java_process = Popen(command, stdout=stderr, stderr=open(os.devnull, 'w'), shell=True)\n",
    "    java_process.wait()\n",
    "    assert not java_process.returncode, 'ERROR: Call to stanford_ie exited with a non-zero code status.'\n",
    "\n",
    "    with open(\"out.txt\", 'r') as output_file:\n",
    "        results_str = \"\\n\".join(output_file.readlines())\n",
    "\n",
    "    # results = process_entity_relations(results_str, verbose)\n",
    "    return results_str"
   ]
  },
  {
   "cell_type": "code",
   "execution_count": 31,
   "metadata": {
    "ExecuteTime": {
     "end_time": "2018-10-06T20:45:19.098074Z",
     "start_time": "2018-10-06T20:45:19.094609Z"
    }
   },
   "outputs": [],
   "source": [
    "STANFORD_IE_FOLDER = \"stanford-corenlp-full-2018-02-27/\"\n",
    "JAVA_BIN_PATH = \"java\""
   ]
  },
  {
   "cell_type": "code",
   "execution_count": 32,
   "metadata": {
    "ExecuteTime": {
     "end_time": "2018-10-06T20:45:57.455096Z",
     "start_time": "2018-10-06T20:45:26.463375Z"
    }
   },
   "outputs": [
    {
     "name": "stdout",
     "output_type": "stream",
     "text": [
      "Executing command = cd /Users/adriengalamez/Documents/Research_Assistant/stanford-corenlp-full-2018-02-27/; java -mx2g -cp \"*\" edu.stanford.nlp.naturalli.OpenIE /Users/adriengalamez/Documents/Research_Assistant/text.txt -format ollie > ../out.txt True\n",
      "1.000: (Obama; was; president)\n",
      "\n",
      "1.000: (Obama; was president of; USA)\n",
      "\n",
      "1.000: (He; was born in; Hawaii)\n",
      "\n",
      "1.000: (He; was; born)\n",
      "\n"
     ]
    }
   ],
   "source": [
    "a = stanford_ie(\"/Users/adriengalamez/Documents/Research_Assistant/text.txt\", \"/Users/adriengalamez/Documents/Research_Assistant/stanford-corenlp-full-2018-02-27/\")\n",
    "print(a)"
   ]
  },
  {
   "cell_type": "code",
   "execution_count": 18,
   "metadata": {
    "ExecuteTime": {
     "end_time": "2018-10-05T21:24:21.938400Z",
     "start_time": "2018-10-05T21:24:21.852648Z"
    }
   },
   "outputs": [],
   "source": [
    "text = \"Obama was president of the USA. He was born in Hawaii.\"\n",
    "\n",
    "output = nlp.annotate(text, properties= {'annotators':'tokenize,ssplit,pos,depparse, natlog, openie', 'outputFormat':'json','openie.format': 'ollie'})"
   ]
  },
  {
   "cell_type": "code",
   "execution_count": 19,
   "metadata": {
    "ExecuteTime": {
     "end_time": "2018-10-05T21:24:22.548156Z",
     "start_time": "2018-10-05T21:24:22.522585Z"
    }
   },
   "outputs": [
    {
     "data": {
      "text/plain": [
       "{'sentences': [{'basicDependencies': [{'dep': 'ROOT',\n",
       "     'dependent': 3,\n",
       "     'dependentGloss': 'president',\n",
       "     'governor': 0,\n",
       "     'governorGloss': 'ROOT'},\n",
       "    {'dep': 'nsubj',\n",
       "     'dependent': 1,\n",
       "     'dependentGloss': 'Obama',\n",
       "     'governor': 3,\n",
       "     'governorGloss': 'president'},\n",
       "    {'dep': 'cop',\n",
       "     'dependent': 2,\n",
       "     'dependentGloss': 'was',\n",
       "     'governor': 3,\n",
       "     'governorGloss': 'president'},\n",
       "    {'dep': 'case',\n",
       "     'dependent': 4,\n",
       "     'dependentGloss': 'of',\n",
       "     'governor': 6,\n",
       "     'governorGloss': 'USA'},\n",
       "    {'dep': 'det',\n",
       "     'dependent': 5,\n",
       "     'dependentGloss': 'the',\n",
       "     'governor': 6,\n",
       "     'governorGloss': 'USA'},\n",
       "    {'dep': 'nmod',\n",
       "     'dependent': 6,\n",
       "     'dependentGloss': 'USA',\n",
       "     'governor': 3,\n",
       "     'governorGloss': 'president'},\n",
       "    {'dep': 'punct',\n",
       "     'dependent': 7,\n",
       "     'dependentGloss': '.',\n",
       "     'governor': 3,\n",
       "     'governorGloss': 'president'}],\n",
       "   'enhancedDependencies': [{'dep': 'ROOT',\n",
       "     'dependent': 3,\n",
       "     'dependentGloss': 'president',\n",
       "     'governor': 0,\n",
       "     'governorGloss': 'ROOT'},\n",
       "    {'dep': 'nsubj',\n",
       "     'dependent': 1,\n",
       "     'dependentGloss': 'Obama',\n",
       "     'governor': 3,\n",
       "     'governorGloss': 'president'},\n",
       "    {'dep': 'cop',\n",
       "     'dependent': 2,\n",
       "     'dependentGloss': 'was',\n",
       "     'governor': 3,\n",
       "     'governorGloss': 'president'},\n",
       "    {'dep': 'case',\n",
       "     'dependent': 4,\n",
       "     'dependentGloss': 'of',\n",
       "     'governor': 6,\n",
       "     'governorGloss': 'USA'},\n",
       "    {'dep': 'det',\n",
       "     'dependent': 5,\n",
       "     'dependentGloss': 'the',\n",
       "     'governor': 6,\n",
       "     'governorGloss': 'USA'},\n",
       "    {'dep': 'nmod:of',\n",
       "     'dependent': 6,\n",
       "     'dependentGloss': 'USA',\n",
       "     'governor': 3,\n",
       "     'governorGloss': 'president'},\n",
       "    {'dep': 'punct',\n",
       "     'dependent': 7,\n",
       "     'dependentGloss': '.',\n",
       "     'governor': 3,\n",
       "     'governorGloss': 'president'}],\n",
       "   'enhancedPlusPlusDependencies': [{'dep': 'ROOT',\n",
       "     'dependent': 3,\n",
       "     'dependentGloss': 'president',\n",
       "     'governor': 0,\n",
       "     'governorGloss': 'ROOT'},\n",
       "    {'dep': 'nsubj',\n",
       "     'dependent': 1,\n",
       "     'dependentGloss': 'Obama',\n",
       "     'governor': 3,\n",
       "     'governorGloss': 'president'},\n",
       "    {'dep': 'cop',\n",
       "     'dependent': 2,\n",
       "     'dependentGloss': 'was',\n",
       "     'governor': 3,\n",
       "     'governorGloss': 'president'},\n",
       "    {'dep': 'case',\n",
       "     'dependent': 4,\n",
       "     'dependentGloss': 'of',\n",
       "     'governor': 6,\n",
       "     'governorGloss': 'USA'},\n",
       "    {'dep': 'det',\n",
       "     'dependent': 5,\n",
       "     'dependentGloss': 'the',\n",
       "     'governor': 6,\n",
       "     'governorGloss': 'USA'},\n",
       "    {'dep': 'nmod:of',\n",
       "     'dependent': 6,\n",
       "     'dependentGloss': 'USA',\n",
       "     'governor': 3,\n",
       "     'governorGloss': 'president'},\n",
       "    {'dep': 'punct',\n",
       "     'dependent': 7,\n",
       "     'dependentGloss': '.',\n",
       "     'governor': 3,\n",
       "     'governorGloss': 'president'}],\n",
       "   'index': 0,\n",
       "   'openie': [{'object': 'president',\n",
       "     'objectSpan': [2, 3],\n",
       "     'relation': 'was',\n",
       "     'relationSpan': [1, 2],\n",
       "     'subject': 'Obama',\n",
       "     'subjectSpan': [0, 1]},\n",
       "    {'object': 'USA',\n",
       "     'objectSpan': [5, 6],\n",
       "     'relation': 'was president of',\n",
       "     'relationSpan': [1, 4],\n",
       "     'subject': 'Obama',\n",
       "     'subjectSpan': [0, 1]}],\n",
       "   'tokens': [{'after': ' ',\n",
       "     'before': '',\n",
       "     'characterOffsetBegin': 0,\n",
       "     'characterOffsetEnd': 5,\n",
       "     'index': 1,\n",
       "     'lemma': 'Obama',\n",
       "     'originalText': 'Obama',\n",
       "     'pos': 'NNP',\n",
       "     'word': 'Obama'},\n",
       "    {'after': ' ',\n",
       "     'before': ' ',\n",
       "     'characterOffsetBegin': 6,\n",
       "     'characterOffsetEnd': 9,\n",
       "     'index': 2,\n",
       "     'lemma': 'be',\n",
       "     'originalText': 'was',\n",
       "     'pos': 'VBD',\n",
       "     'word': 'was'},\n",
       "    {'after': ' ',\n",
       "     'before': ' ',\n",
       "     'characterOffsetBegin': 10,\n",
       "     'characterOffsetEnd': 19,\n",
       "     'index': 3,\n",
       "     'lemma': 'president',\n",
       "     'originalText': 'president',\n",
       "     'pos': 'NN',\n",
       "     'word': 'president'},\n",
       "    {'after': ' ',\n",
       "     'before': ' ',\n",
       "     'characterOffsetBegin': 20,\n",
       "     'characterOffsetEnd': 22,\n",
       "     'index': 4,\n",
       "     'lemma': 'of',\n",
       "     'originalText': 'of',\n",
       "     'pos': 'IN',\n",
       "     'word': 'of'},\n",
       "    {'after': ' ',\n",
       "     'before': ' ',\n",
       "     'characterOffsetBegin': 23,\n",
       "     'characterOffsetEnd': 26,\n",
       "     'index': 5,\n",
       "     'lemma': 'the',\n",
       "     'originalText': 'the',\n",
       "     'pos': 'DT',\n",
       "     'word': 'the'},\n",
       "    {'after': '',\n",
       "     'before': ' ',\n",
       "     'characterOffsetBegin': 27,\n",
       "     'characterOffsetEnd': 30,\n",
       "     'index': 6,\n",
       "     'lemma': 'USA',\n",
       "     'originalText': 'USA',\n",
       "     'pos': 'NNP',\n",
       "     'word': 'USA'},\n",
       "    {'after': ' ',\n",
       "     'before': '',\n",
       "     'characterOffsetBegin': 30,\n",
       "     'characterOffsetEnd': 31,\n",
       "     'index': 7,\n",
       "     'lemma': '.',\n",
       "     'originalText': '.',\n",
       "     'pos': '.',\n",
       "     'word': '.'}]},\n",
       "  {'basicDependencies': [{'dep': 'ROOT',\n",
       "     'dependent': 3,\n",
       "     'dependentGloss': 'born',\n",
       "     'governor': 0,\n",
       "     'governorGloss': 'ROOT'},\n",
       "    {'dep': 'nsubjpass',\n",
       "     'dependent': 1,\n",
       "     'dependentGloss': 'He',\n",
       "     'governor': 3,\n",
       "     'governorGloss': 'born'},\n",
       "    {'dep': 'auxpass',\n",
       "     'dependent': 2,\n",
       "     'dependentGloss': 'was',\n",
       "     'governor': 3,\n",
       "     'governorGloss': 'born'},\n",
       "    {'dep': 'case',\n",
       "     'dependent': 4,\n",
       "     'dependentGloss': 'in',\n",
       "     'governor': 5,\n",
       "     'governorGloss': 'Hawaii'},\n",
       "    {'dep': 'nmod',\n",
       "     'dependent': 5,\n",
       "     'dependentGloss': 'Hawaii',\n",
       "     'governor': 3,\n",
       "     'governorGloss': 'born'},\n",
       "    {'dep': 'punct',\n",
       "     'dependent': 6,\n",
       "     'dependentGloss': '.',\n",
       "     'governor': 3,\n",
       "     'governorGloss': 'born'}],\n",
       "   'enhancedDependencies': [{'dep': 'ROOT',\n",
       "     'dependent': 3,\n",
       "     'dependentGloss': 'born',\n",
       "     'governor': 0,\n",
       "     'governorGloss': 'ROOT'},\n",
       "    {'dep': 'nsubjpass',\n",
       "     'dependent': 1,\n",
       "     'dependentGloss': 'He',\n",
       "     'governor': 3,\n",
       "     'governorGloss': 'born'},\n",
       "    {'dep': 'auxpass',\n",
       "     'dependent': 2,\n",
       "     'dependentGloss': 'was',\n",
       "     'governor': 3,\n",
       "     'governorGloss': 'born'},\n",
       "    {'dep': 'case',\n",
       "     'dependent': 4,\n",
       "     'dependentGloss': 'in',\n",
       "     'governor': 5,\n",
       "     'governorGloss': 'Hawaii'},\n",
       "    {'dep': 'nmod:in',\n",
       "     'dependent': 5,\n",
       "     'dependentGloss': 'Hawaii',\n",
       "     'governor': 3,\n",
       "     'governorGloss': 'born'},\n",
       "    {'dep': 'punct',\n",
       "     'dependent': 6,\n",
       "     'dependentGloss': '.',\n",
       "     'governor': 3,\n",
       "     'governorGloss': 'born'}],\n",
       "   'enhancedPlusPlusDependencies': [{'dep': 'ROOT',\n",
       "     'dependent': 3,\n",
       "     'dependentGloss': 'born',\n",
       "     'governor': 0,\n",
       "     'governorGloss': 'ROOT'},\n",
       "    {'dep': 'nsubjpass',\n",
       "     'dependent': 1,\n",
       "     'dependentGloss': 'He',\n",
       "     'governor': 3,\n",
       "     'governorGloss': 'born'},\n",
       "    {'dep': 'auxpass',\n",
       "     'dependent': 2,\n",
       "     'dependentGloss': 'was',\n",
       "     'governor': 3,\n",
       "     'governorGloss': 'born'},\n",
       "    {'dep': 'case',\n",
       "     'dependent': 4,\n",
       "     'dependentGloss': 'in',\n",
       "     'governor': 5,\n",
       "     'governorGloss': 'Hawaii'},\n",
       "    {'dep': 'nmod:in',\n",
       "     'dependent': 5,\n",
       "     'dependentGloss': 'Hawaii',\n",
       "     'governor': 3,\n",
       "     'governorGloss': 'born'},\n",
       "    {'dep': 'punct',\n",
       "     'dependent': 6,\n",
       "     'dependentGloss': '.',\n",
       "     'governor': 3,\n",
       "     'governorGloss': 'born'}],\n",
       "   'index': 1,\n",
       "   'openie': [{'object': 'Hawaii',\n",
       "     'objectSpan': [4, 5],\n",
       "     'relation': 'was born in',\n",
       "     'relationSpan': [1, 4],\n",
       "     'subject': 'He',\n",
       "     'subjectSpan': [0, 1]},\n",
       "    {'object': 'born',\n",
       "     'objectSpan': [2, 3],\n",
       "     'relation': 'was',\n",
       "     'relationSpan': [1, 2],\n",
       "     'subject': 'He',\n",
       "     'subjectSpan': [0, 1]}],\n",
       "   'tokens': [{'after': ' ',\n",
       "     'before': ' ',\n",
       "     'characterOffsetBegin': 32,\n",
       "     'characterOffsetEnd': 34,\n",
       "     'index': 1,\n",
       "     'lemma': 'he',\n",
       "     'originalText': 'He',\n",
       "     'pos': 'PRP',\n",
       "     'word': 'He'},\n",
       "    {'after': ' ',\n",
       "     'before': ' ',\n",
       "     'characterOffsetBegin': 35,\n",
       "     'characterOffsetEnd': 38,\n",
       "     'index': 2,\n",
       "     'lemma': 'be',\n",
       "     'originalText': 'was',\n",
       "     'pos': 'VBD',\n",
       "     'word': 'was'},\n",
       "    {'after': ' ',\n",
       "     'before': ' ',\n",
       "     'characterOffsetBegin': 39,\n",
       "     'characterOffsetEnd': 43,\n",
       "     'index': 3,\n",
       "     'lemma': 'bear',\n",
       "     'originalText': 'born',\n",
       "     'pos': 'VBN',\n",
       "     'word': 'born'},\n",
       "    {'after': ' ',\n",
       "     'before': ' ',\n",
       "     'characterOffsetBegin': 44,\n",
       "     'characterOffsetEnd': 46,\n",
       "     'index': 4,\n",
       "     'lemma': 'in',\n",
       "     'originalText': 'in',\n",
       "     'pos': 'IN',\n",
       "     'word': 'in'},\n",
       "    {'after': '',\n",
       "     'before': ' ',\n",
       "     'characterOffsetBegin': 47,\n",
       "     'characterOffsetEnd': 53,\n",
       "     'index': 5,\n",
       "     'lemma': 'Hawaii',\n",
       "     'originalText': 'Hawaii',\n",
       "     'pos': 'NNP',\n",
       "     'word': 'Hawaii'},\n",
       "    {'after': '',\n",
       "     'before': '',\n",
       "     'characterOffsetBegin': 53,\n",
       "     'characterOffsetEnd': 54,\n",
       "     'index': 6,\n",
       "     'lemma': '.',\n",
       "     'originalText': '.',\n",
       "     'pos': '.',\n",
       "     'word': '.'}]}]}"
      ]
     },
     "execution_count": 19,
     "metadata": {},
     "output_type": "execute_result"
    }
   ],
   "source": [
    "output"
   ]
  },
  {
   "cell_type": "code",
   "execution_count": null,
   "metadata": {},
   "outputs": [],
   "source": []
  }
 ],
 "metadata": {
  "kernelspec": {
   "display_name": "Python 3",
   "language": "python",
   "name": "python3"
  },
  "language_info": {
   "codemirror_mode": {
    "name": "ipython",
    "version": 3
   },
   "file_extension": ".py",
   "mimetype": "text/x-python",
   "name": "python",
   "nbconvert_exporter": "python",
   "pygments_lexer": "ipython3",
   "version": "3.6.6"
  },
  "toc": {
   "nav_menu": {},
   "number_sections": true,
   "sideBar": true,
   "skip_h1_title": false,
   "title_cell": "Table of Contents",
   "title_sidebar": "Contents",
   "toc_cell": false,
   "toc_position": {},
   "toc_section_display": true,
   "toc_window_display": false
  }
 },
 "nbformat": 4,
 "nbformat_minor": 2
}
