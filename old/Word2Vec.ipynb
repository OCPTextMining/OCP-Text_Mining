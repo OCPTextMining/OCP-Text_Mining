{
 "cells": [
  {
   "cell_type": "markdown",
   "metadata": {},
   "source": [
    "# Import packages"
   ]
  },
  {
   "cell_type": "code",
   "execution_count": 1,
   "metadata": {
    "ExecuteTime": {
     "end_time": "2018-10-02T19:02:24.307268Z",
     "start_time": "2018-10-02T19:02:21.907810Z"
    }
   },
   "outputs": [],
   "source": [
    "import glob\n",
    "import nltk\n",
    "from config import Config\n",
    "import gensim\n",
    "import numpy as np\n",
    "from sklearn.decomposition import PCA\n",
    "import matplotlib.pyplot as plt\n",
    "from sklearn.cluster import KMeans\n",
    "from scipy.spatial.distance import cdist\n",
    "import warnings\n",
    "warnings.filterwarnings('ignore')\n",
    "%matplotlib inline\n",
    "plt.rcParams['figure.figsize'] = (15, 10)"
   ]
  },
  {
   "cell_type": "markdown",
   "metadata": {},
   "source": [
    "# Load text"
   ]
  },
  {
   "cell_type": "code",
   "execution_count": 2,
   "metadata": {
    "ExecuteTime": {
     "end_time": "2018-10-02T19:02:25.232529Z",
     "start_time": "2018-10-02T19:02:25.218791Z"
    }
   },
   "outputs": [],
   "source": [
    "def input_data(text_file_directory=Config.TEXT_DATA_PATH):\n",
    "    \"\"\"\n",
    "    Reads the text documents contained in text_file_directory\n",
    "    :param text_file_directory: Path to directory (String)\n",
    "    :return: List where one element in a word in the text. The text order is kept. (List of String)\n",
    "    \"\"\"\n",
    "    list_of_words = []\n",
    "    for file_path in glob.glob(text_file_directory):\n",
    "        with open(file_path, 'r', errors=\"ignore\") as f:\n",
    "            content = ''.join(f.readlines())\n",
    "            content.replace('  ', ' ')\n",
    "            list_of_current_words = content.split(' ')\n",
    "            list_of_current_words = [x.lower() for x in list_of_current_words if x != '']\n",
    "            list_of_words.append(list_of_current_words)\n",
    "    return list_of_words"
   ]
  },
  {
   "cell_type": "code",
   "execution_count": 3,
   "metadata": {
    "ExecuteTime": {
     "end_time": "2018-10-02T19:02:26.013111Z",
     "start_time": "2018-10-02T19:02:25.585956Z"
    }
   },
   "outputs": [],
   "source": [
    "data = input_data()"
   ]
  },
  {
   "cell_type": "code",
   "execution_count": 4,
   "metadata": {
    "ExecuteTime": {
     "end_time": "2018-10-02T19:02:26.022799Z",
     "start_time": "2018-10-02T19:02:26.015349Z"
    }
   },
   "outputs": [
    {
     "name": "stdout",
     "output_type": "stream",
     "text": [
      "We have 100 document with an average of 7187.03 words.\n"
     ]
    }
   ],
   "source": [
    "print(f\"We have {len(data)} document with an average of {np.mean([len(elt) for elt in data])} words.\")"
   ]
  },
  {
   "cell_type": "markdown",
   "metadata": {},
   "source": [
    "`data` will be a list of list. Each element will contain one file."
   ]
  },
  {
   "cell_type": "code",
   "execution_count": 5,
   "metadata": {
    "ExecuteTime": {
     "end_time": "2018-10-02T19:02:26.718858Z",
     "start_time": "2018-10-02T19:02:26.713999Z"
    }
   },
   "outputs": [
    {
     "name": "stdout",
     "output_type": "stream",
     "text": [
      "['analysis', 'china', 'dominates', 'airwaves', 'with', 'vat', 'and', 'lower', 'prices', 'the', 'market', 'has', 'been', 'awash', 'with']\n",
      "['analysis', 'subdued', 'are', 'the', 'phosphate', 'markets,', 'east', 'and', 'west', 'with', 'the', 'exception', 'of', 'pakistan', 'where']\n"
     ]
    }
   ],
   "source": [
    "print(\"\\n\".join([str(elt[:15]) for elt in data[:2]]))"
   ]
  },
  {
   "cell_type": "markdown",
   "metadata": {},
   "source": [
    "And each file is pre-processed to tokenize words."
   ]
  },
  {
   "cell_type": "code",
   "execution_count": 6,
   "metadata": {
    "ExecuteTime": {
     "end_time": "2018-10-02T19:02:27.248210Z",
     "start_time": "2018-10-02T19:02:27.243314Z"
    }
   },
   "outputs": [
    {
     "name": "stdout",
     "output_type": "stream",
     "text": [
      "['ort']\n"
     ]
    }
   ],
   "source": [
    "print(gensim.utils.simple_preprocess(\"Ort.\"))"
   ]
  },
  {
   "cell_type": "markdown",
   "metadata": {},
   "source": [
    "# Build model"
   ]
  },
  {
   "cell_type": "markdown",
   "metadata": {},
   "source": [
    "Parameters:\n",
    "- `size`: (default 100) The number of dimensions of the embedding, e.g. the length of the dense vector to represent each token (word).\n",
    "- `window`: (default 5) The maximum distance between a target word and words around the target word.\n",
    "- `min_count`: (default 5) The minimum count of words to consider when training the model; words with an occurrence less than this count will be ignored.\n",
    "- `workers`: (default 3) The number of threads to use while training.\n",
    "- `sg`: (default 0 or CBOW) The training algorithm, either CBOW (0) or skip gram (1)."
   ]
  },
  {
   "cell_type": "code",
   "execution_count": 7,
   "metadata": {
    "ExecuteTime": {
     "end_time": "2018-10-02T19:02:28.459757Z",
     "start_time": "2018-10-02T19:02:28.259074Z"
    }
   },
   "outputs": [],
   "source": [
    "# build vocabulary and train model\n",
    "# model = gensim.models.Word2Vec(data, size=32, window=10, min_count=2,workers=4,sg=1)\n",
    "# model.save(\"word2vec.model\")\n",
    "model = gensim.models.Word2Vec.load(\"word2vec.model\")"
   ]
  },
  {
   "cell_type": "markdown",
   "metadata": {
    "ExecuteTime": {
     "end_time": "2018-10-02T15:58:26.709877Z",
     "start_time": "2018-10-02T15:58:26.700635Z"
    }
   },
   "source": [
    "Print the vocabulary used"
   ]
  },
  {
   "cell_type": "code",
   "execution_count": 8,
   "metadata": {
    "ExecuteTime": {
     "end_time": "2018-10-02T19:02:29.438245Z",
     "start_time": "2018-10-02T19:02:29.427681Z"
    }
   },
   "outputs": [
    {
     "name": "stdout",
     "output_type": "stream",
     "text": [
      "('analysis', 'Vocab(count:197, index:476, sample_int:4294967296)', \"['-0.15', '0.6', '-0.21', '1.0']...\")\n",
      "('china', 'Vocab(count:1304, index:82, sample_int:4294967296)', \"['0.81', '0.19', '-0.51', '0.46']...\")\n",
      "('with', 'Vocab(count:5077, index:14, sample_int:2193243371)', \"['0.21', '0.69', '0.17', '0.43']...\")\n",
      "('vat', 'Vocab(count:41, index:1751, sample_int:4294967296)', \"['0.16', '0.65', '-0.29', '0.025']...\")\n",
      "('and', 'Vocab(count:12516, index:3, sample_int:1259311112)', \"['0.096', '0.32', '0.22', '0.3']...\")\n",
      "('lower', 'Vocab(count:912, index:117, sample_int:4294967296)', \"['0.41', '0.78', '-0.2', '0.28']...\")\n",
      "('prices', 'Vocab(count:4397, index:16, sample_int:2404392624)', \"['0.28', '0.77', '0.097', '0.14']...\")\n",
      "('the', 'Vocab(count:25918, index:1, sample_int:823958341)', \"['-0.46', '0.68', '0.1', '0.19']...\")\n",
      "('market', 'Vocab(count:1998, index:47, sample_int:4059480107)', \"['0.26', '0.51', '-0.33', '0.4']...\")\n",
      "('has', 'Vocab(count:2474, index:30, sample_int:3510463341)', \"['-0.076', '1.3', '-0.5', '-0.11']...\")\n"
     ]
    }
   ],
   "source": [
    "print(\"\\n\".join([str((str(k), str(v), str([f\"{elt:.2}\" for elt in model[k][:4]])+'...')) for k,v in list(model.wv.vocab.items())[:10]]))"
   ]
  },
  {
   "cell_type": "markdown",
   "metadata": {
    "ExecuteTime": {
     "end_time": "2018-10-02T16:18:27.205739Z",
     "start_time": "2018-10-02T16:18:27.202675Z"
    }
   },
   "source": [
    "# Working with the whole new word embeddings"
   ]
  },
  {
   "cell_type": "markdown",
   "metadata": {},
   "source": [
    "We can find the closest words to a particular word appearing in the dataset."
   ]
  },
  {
   "cell_type": "code",
   "execution_count": 17,
   "metadata": {
    "ExecuteTime": {
     "end_time": "2018-10-02T19:04:21.449432Z",
     "start_time": "2018-10-02T19:04:21.439030Z"
    }
   },
   "outputs": [
    {
     "data": {
      "text/plain": [
       "[('rock', 0.8904851078987122),\n",
       " ('rock,', 0.8123131990432739),\n",
       " ('somiphos', 0.8061442375183105),\n",
       " ('peruvian', 0.8054100275039673),\n",
       " (\"peru's\", 0.8002829551696777)]"
      ]
     },
     "execution_count": 17,
     "metadata": {},
     "output_type": "execute_result"
    }
   ],
   "source": [
    "model.wv.most_similar(positive=\"phosphate\", topn=5)"
   ]
  },
  {
   "cell_type": "code",
   "execution_count": 20,
   "metadata": {
    "ExecuteTime": {
     "end_time": "2018-10-02T19:08:03.191208Z",
     "start_time": "2018-10-02T19:08:03.118415Z"
    }
   },
   "outputs": [
    {
     "name": "stdout",
     "output_type": "stream",
     "text": [
      "(14186, 32)\n"
     ]
    }
   ],
   "source": [
    "# model = gensim.models.Word2Vec.load(\"word2vec.model\")\n",
    "X = model[model.wv.vocab]\n",
    "print(X.shape)"
   ]
  },
  {
   "cell_type": "markdown",
   "metadata": {},
   "source": [
    "Filter to keep only the 100 most used words (to display them)"
   ]
  },
  {
   "cell_type": "code",
   "execution_count": 12,
   "metadata": {
    "ExecuteTime": {
     "end_time": "2018-10-02T19:03:01.629491Z",
     "start_time": "2018-10-02T19:03:01.606287Z"
    }
   },
   "outputs": [
    {
     "name": "stdout",
     "output_type": "stream",
     "text": [
      "(100, 32)\n"
     ]
    }
   ],
   "source": [
    "count = []\n",
    "for word, vocab_obj in model.wv.vocab.items():\n",
    "    count.append((word, vocab_obj.count))\n",
    "count.sort(key=lambda tup: tup[1], reverse=True)\n",
    "most_used_words = [w for w, c in count[:100]]\n",
    "sub_X = model[most_used_words]\n",
    "print(sub_X.shape)"
   ]
  },
  {
   "cell_type": "markdown",
   "metadata": {},
   "source": [
    "Perform a PCA to display the distribution of the 100 most used words."
   ]
  },
  {
   "cell_type": "code",
   "execution_count": 13,
   "metadata": {
    "ExecuteTime": {
     "end_time": "2018-10-02T19:03:11.115029Z",
     "start_time": "2018-10-02T19:03:11.091632Z"
    }
   },
   "outputs": [],
   "source": [
    "pca = PCA(n_components=2)\n",
    "result = pca.fit_transform(sub_X)"
   ]
  },
  {
   "cell_type": "markdown",
   "metadata": {},
   "source": [
    "Fit a KMeans algorithm with 4 clusters to classify points"
   ]
  },
  {
   "cell_type": "code",
   "execution_count": 23,
   "metadata": {
    "ExecuteTime": {
     "end_time": "2018-10-02T19:08:16.891843Z",
     "start_time": "2018-10-02T19:08:16.838613Z"
    }
   },
   "outputs": [],
   "source": [
    "kmeans_model = KMeans(n_clusters=4, init='k-means++', max_iter=100)  \n",
    "kmeans_model.fit(sub_X)\n",
    "labels=kmeans_model.labels_.tolist()"
   ]
  },
  {
   "cell_type": "markdown",
   "metadata": {
    "ExecuteTime": {
     "end_time": "2018-10-02T17:55:24.296277Z",
     "start_time": "2018-10-02T17:55:24.292149Z"
    }
   },
   "source": [
    "Plot results"
   ]
  },
  {
   "cell_type": "code",
   "execution_count": 16,
   "metadata": {
    "ExecuteTime": {
     "end_time": "2018-10-02T19:04:13.020219Z",
     "start_time": "2018-10-02T19:04:12.166948Z"
    }
   },
   "outputs": [
    {
     "data": {
      "image/png": "[encoded data removed]",
      "text/plain": [
       "<matplotlib.figure.Figure at 0x1a22188dd8>"
      ]
     },
     "metadata": {},
     "output_type": "display_data"
    }
   ],
   "source": [
    "label1 = [\"blue\", \"orange\", \"red\", \"green\"]\n",
    "color = [label1[i] for i in labels]\n",
    "plt.scatter(result[:, 0], result[:, 1], s=10,color=color)\n",
    "# words = list(model.wv.vocab)\n",
    "for i, word in enumerate(most_used_words):\n",
    "    plt.annotate(word, xy=(result[i, 0]+0.005, result[i, 1]+0.005))\n",
    "plt.xlim((-2,2))\n",
    "plt.ylim((-2,2));"
   ]
  },
  {
   "cell_type": "markdown",
   "metadata": {},
   "source": [
    "# KMeans"
   ]
  },
  {
   "cell_type": "markdown",
   "metadata": {},
   "source": [
    "Now on the whole dataset, we want to classify points into groups using the word embedding matrix. Which $k$ should be choose?\n",
    "Let's plot the SSE (sum of squared errors) to choose the optimum number of clusters."
   ]
  },
  {
   "cell_type": "code",
   "execution_count": 80,
   "metadata": {
    "ExecuteTime": {
     "end_time": "2018-10-02T18:35:59.131425Z",
     "start_time": "2018-10-02T18:26:17.396951Z"
    }
   },
   "outputs": [
    {
     "data": {
      "text/plain": [
       "<matplotlib.text.Text at 0x1a2a06d828>"
      ]
     },
     "execution_count": 80,
     "metadata": {},
     "output_type": "execute_result"
    },
    {
     "data": {
      "image/png": "[encoded data removed]",
      "text/plain": [
       "<matplotlib.figure.Figure at 0x1a285f9550>"
      ]
     },
     "metadata": {},
     "output_type": "display_data"
    }
   ],
   "source": [
    "sse = dict()\n",
    "for K in range(2,90):\n",
    "    kmeans_model = KMeans(n_clusters=K, max_iter=1000)  \n",
    "    kmeans_model.fit(X)\n",
    "    sse[K] = kmeans_model.inertia_\n",
    "\n",
    "plt.plot(list(sse.keys()), list(sse.values()))\n",
    "plt.xlabel(\"Number of cluster\")\n",
    "plt.ylabel(\"SSE\");"
   ]
  },
  {
   "cell_type": "markdown",
   "metadata": {},
   "source": [
    "We choose $k = 40$."
   ]
  },
  {
   "cell_type": "markdown",
   "metadata": {},
   "source": [
    "Fit the KMeans model with $k=40$."
   ]
  },
  {
   "cell_type": "code",
   "execution_count": 21,
   "metadata": {
    "ExecuteTime": {
     "end_time": "2018-10-02T19:08:12.978697Z",
     "start_time": "2018-10-02T19:08:05.831085Z"
    }
   },
   "outputs": [],
   "source": [
    "K_OPT = 40\n",
    "kmeans_model = KMeans(n_clusters=K_OPT, max_iter=1000)\n",
    "kmeans_model.fit(X)\n",
    "labels=kmeans_model.labels_.tolist()"
   ]
  },
  {
   "cell_type": "markdown",
   "metadata": {},
   "source": [
    "Assign words to their label and sort to display the most frequent words."
   ]
  },
  {
   "cell_type": "code",
   "execution_count": 22,
   "metadata": {
    "ExecuteTime": {
     "end_time": "2018-10-02T19:08:13.016314Z",
     "start_time": "2018-10-02T19:08:12.980980Z"
    }
   },
   "outputs": [],
   "source": [
    "words_by_label = {label:[] for label in range(K_OPT)}\n",
    "for i, (word, vocab_obj) in enumerate(model.wv.vocab.items()):\n",
    "    words_by_label[labels[i]].append((word, vocab_obj.count))\n",
    "for i in range(K_OPT):\n",
    "    words_by_label[i].sort(key=lambda tup: tup[1], reverse=True)"
   ]
  },
  {
   "cell_type": "code",
   "execution_count": 105,
   "metadata": {
    "ExecuteTime": {
     "end_time": "2018-10-02T18:52:28.193328Z",
     "start_time": "2018-10-02T18:52:28.186177Z"
    }
   },
   "outputs": [
    {
     "name": "stdout",
     "output_type": "stream",
     "text": [
      "['corn', 'key', 'crop', 'soybean', 'planting', 'work', 'support', 'agricultural', 'wheat', 'weather']\n",
      "['earlier', 'value', 'countries', 'discussion', 'general', 'assessments', 'resulted', 'times', 'paranagua', 'contacts']\n",
      "['this', 'by', 'that', 'will', 'not', 'more', 'over', 'any', 'other', 'into']\n",
      "['fob', 'around', 'cfr', 'offers', 'reported', 'fob.', 'cfr.', 'deals', 'roughly', 'cfr,']\n",
      "['ground', 'real', 'requirement', 'driven', 'knowledge', 'them', 'up,', 'team', 'invest', 'first-hand']\n",
      "['dap/map', 'it', 'sold', 'shipment', 'cargo', 'july', 'april', 'june', 'believed', 'two']\n",
      "['average', 'net', 'billion', 'quarter', 'said.', 'potash', 'output', 'nitrogen', 'produced', 'posted']\n",
      "['and', 'an', 'may', '\\n\\nthe', 'previously', 'moroccan', 'asian', 'enquiries', 'official', '\\n\\nat']\n",
      "['plant', 'chief', 'press', 'mine', 'project', 'joint', 'environmental', 'raw', 'industry', 'plants']\n",
      "['which', 'september', 'october', 'international', 'three', 'west', 'dap,', 'close', 'trading', 'technical']\n",
      "['fertilizer', 'fertilizers', 'subsidy', 'against', 'news', 'purchase', 'inr', 'cut', 'companies', 'government']\n",
      "['million', 'according', 'during', 'january', 'increase', 'first', 'imported', 'period', 'year.', 'months']\n",
      "['use', 'valid', 'copyright', 'your', 'ltd.', 'law', 'authorised', 'view', 'users', 'access']\n",
      "['us', 'mosaic', 'week,', 'business', 'values', 'latin', 'barge', 'prior', 'distributors', 'costs']\n",
      "['offered', 'days', 'delivery', 'offer', 'lowest', 'lots', '30', 'credit', 'basis', 'coast']\n",
      "['+44', '7903', '(0)20', '(0)', 'customer', 'notice', 'ben.farey@crugroup.com', '903', 'legal', '207']\n",
      "['to', 'from', 'while', 'china', 'deliveries', 'those', 'respectively.', 'canada', '60%', \"argentina's\"]\n",
      "['tender', 'india:', '20,000', 'awarded', 'received', 'closed', 'closing', '15', 'rcf', 'date']\n",
      "['for', 'a', 'is', 'with', 'as', 'be', 'have', 'sales', 'has', 'but']\n",
      "['its', 'production', 'company', 'expected', 'end', 'december', 'out', 'granular', 'set', 'second']\n",
      "['cru', 'enough', \"cru's\", 'quality', 'built', 'service', 'twin', 'primary', 'insights', 'research']\n",
      "['email:', 'editor', ',', '+1', 'zhao,', '240', '965', '7669', 'bk.morris@crugroup.com', 'isaac']\n",
      "['urea', 'local', 'taking', 'case', '\\nthe', 'mosaic,', 'grades', 'vnd', 'replace', 'comment']\n",
      "['phosphate', 'rock', 'india', 'ocp', 'indian', 'buyers', 'acid', 'phosphoric', 'q1', 'p2o5']\n",
      "['registered', '+', 'london,', '44', 'guide', 'house,', 'england', '940750.', 'office:', 'charles']\n",
      "['are', 'chinese', 'domestic', 'high', 'producers', 'rmb', 'inland', '11-44', 'rates', 'china:']\n",
      "['our', 'we', 'methodology', 'understanding', 'you', 'how', 'detailed', 'updated', 'regularly', 'every']\n",
      "['taken', 'efforts', 'ensure', 'reliability', 'civil', 'reasonable', 'criminal', 'actions.', 'disclaimer:']\n",
      "['report', 'phosphates', '|', 'weekly', 'www.crugroup.com', '\\x0c', '\\n\\n', 'america', 'south', 'east']\n",
      "['trade', 'conference', 'customers.', 'information', 'ifa', 'opportunities', 'leading', 'provides', 'future', 'advantage']\n",
      "['the', 'in', 'of', 'on', 'were', 'was', 'through', 'august', 'march', 'all']\n",
      "['tel:', '+86', '6510', '2206', '--', '+91', 'consultant', 'isaac.zhao@crugroup.com', 'chitroda,', '66875713']\n",
      "['data,', 'fw', 'using', 'does', 'results', 'single', 'liability', 'accuracy', 'to,', 'contents,']\n",
      "['year', 'imports', 'up', 'mt,', 'exports', 'mt.', 'down', 'volumes', 'npk', 'rose']\n",
      "['dap', 'at', 'map', 'price', 'new', 'week', '\\uf0b7', 'now', 'brazil', 'flat']\n",
      "['prices', 'market', 'some', 'demand', 'recent', 'export', 'further', 'higher', 'most', 'lower']\n",
      "['mt', 'increased', 'shipments', 'tsp', 'morocco', 'including', 't', 'nps', 'port', 'australia']\n",
      "['&', '\\n', 'services', 'agribusiness', 'senior', 'e', 'hotel,', 'book', 'event', 'visit']\n",
      "['–', 'long', 'benchmark', 'sides', 'agree', 'contracts.', 'advance', 'arrangement', 'relied', 'creates']\n",
      "['-', 'customers', 'whether', 'cost', 'analysis', 'make', 'focus', 'people', 'helping', 'important']\n"
     ]
    }
   ],
   "source": [
    "print(\"\\n\".join([str([elt[0] for elt in words_by_label[i][:10]]) for i in range(K_OPT)]))"
   ]
  },
  {
   "cell_type": "markdown",
   "metadata": {},
   "source": [
    "# Demo"
   ]
  },
  {
   "cell_type": "code",
   "execution_count": 4,
   "metadata": {
    "ExecuteTime": {
     "end_time": "2018-10-02T15:31:59.589543Z",
     "start_time": "2018-10-02T15:31:59.548535Z"
    }
   },
   "outputs": [],
   "source": [
    "from gensim.test.utils import common_texts, get_tmpfile\n",
    "from gensim.models import Word2Vec\n",
    "\n",
    "path = get_tmpfile(\"word2vec.model\")\n",
    "\n",
    "model = Word2Vec(common_texts, size=100, window=5, min_count=1, workers=4)\n",
    "model.save(\"word2vec.model\")"
   ]
  },
  {
   "cell_type": "code",
   "execution_count": 5,
   "metadata": {
    "ExecuteTime": {
     "end_time": "2018-10-02T15:32:10.968062Z",
     "start_time": "2018-10-02T15:32:10.955194Z"
    }
   },
   "outputs": [
    {
     "data": {
      "text/plain": [
       "[['human', 'interface', 'computer'],\n",
       " ['survey', 'user', 'computer', 'system', 'response', 'time'],\n",
       " ['eps', 'user', 'interface', 'system'],\n",
       " ['system', 'human', 'system', 'eps'],\n",
       " ['user', 'response', 'time'],\n",
       " ['trees'],\n",
       " ['graph', 'trees'],\n",
       " ['graph', 'minors', 'trees'],\n",
       " ['graph', 'minors', 'survey']]"
      ]
     },
     "execution_count": 5,
     "metadata": {},
     "output_type": "execute_result"
    }
   ],
   "source": [
    "common_texts"
   ]
  },
  {
   "cell_type": "code",
   "execution_count": 6,
   "metadata": {
    "ExecuteTime": {
     "end_time": "2018-10-02T15:32:39.198023Z",
     "start_time": "2018-10-02T15:32:39.180419Z"
    }
   },
   "outputs": [
    {
     "data": {
      "text/plain": [
       "(0, 2)"
      ]
     },
     "execution_count": 6,
     "metadata": {},
     "output_type": "execute_result"
    }
   ],
   "source": [
    "model = Word2Vec.load(\"word2vec.model\")\n",
    "model.train([[\"hello\", \"world\"]], total_examples=1, epochs=1)"
   ]
  },
  {
   "cell_type": "code",
   "execution_count": 7,
   "metadata": {
    "ExecuteTime": {
     "end_time": "2018-10-02T15:34:10.578104Z",
     "start_time": "2018-10-02T15:34:10.574656Z"
    }
   },
   "outputs": [],
   "source": [
    "vector = model.wv['computer']"
   ]
  },
  {
   "cell_type": "code",
   "execution_count": 8,
   "metadata": {
    "ExecuteTime": {
     "end_time": "2018-10-02T15:34:17.019367Z",
     "start_time": "2018-10-02T15:34:17.003027Z"
    }
   },
   "outputs": [
    {
     "data": {
      "text/plain": [
       "array([-4.7318428e-03, -8.0928243e-05, -4.5646937e-03,  1.4201301e-03,\n",
       "        1.3051381e-03, -4.8533157e-03,  3.7457431e-03,  4.8109628e-03,\n",
       "        9.3463040e-04, -9.5737498e-04, -2.3004590e-03,  2.2184646e-03,\n",
       "        1.9172309e-03,  2.6884902e-04, -2.9147172e-03, -1.2778580e-03,\n",
       "       -3.8432358e-03,  2.5077951e-03, -1.8752380e-03, -2.5003094e-03,\n",
       "        9.6803845e-04,  4.2682523e-03,  1.0176175e-03,  1.2495719e-05,\n",
       "        1.1685709e-03,  2.5554125e-03,  5.3820910e-04,  3.5671482e-03,\n",
       "       -2.1910899e-04, -4.0582381e-03, -3.2822858e-04, -3.3796979e-03,\n",
       "        5.0007575e-03, -4.4999644e-03, -2.4789323e-03, -8.8392233e-04,\n",
       "       -6.7270783e-05,  8.3375431e-04,  2.5172057e-03, -2.1044735e-03,\n",
       "       -1.0891407e-03, -4.6986942e-03, -8.6203008e-04,  1.1637164e-03,\n",
       "        2.9150243e-03, -3.5794592e-03, -1.3648985e-04, -1.1773553e-03,\n",
       "        2.0458673e-03,  1.1815886e-03, -3.6946656e-03, -2.0553553e-04,\n",
       "       -1.4833674e-03, -8.6467437e-05, -2.0604925e-03, -1.9085982e-03,\n",
       "       -3.2527202e-03,  1.2352533e-04, -3.1756645e-04, -1.8175986e-03,\n",
       "        8.8148605e-04, -3.8636096e-03, -3.0682280e-03, -1.9693101e-04,\n",
       "       -3.0391326e-03,  5.1008788e-05, -1.4856213e-03,  4.0812548e-03,\n",
       "        4.2569581e-03,  4.5890454e-03, -4.3015154e-03, -3.5526748e-03,\n",
       "        3.5776797e-04, -6.1125198e-04,  4.5617158e-03, -3.7778593e-03,\n",
       "       -4.4867247e-03, -4.0305923e-03, -1.9374668e-03,  2.0618725e-03,\n",
       "        4.1480730e-03,  2.8338619e-03, -3.6289091e-03, -4.9838563e-04,\n",
       "       -3.6557030e-03, -3.1611219e-04,  4.8157237e-03, -2.4860101e-03,\n",
       "       -2.3375654e-03,  1.4513071e-03,  4.8413416e-03,  2.9128925e-03,\n",
       "        4.8857201e-03,  4.8484923e-03,  2.9551312e-03,  1.0630355e-04,\n",
       "        3.6610987e-03, -4.4810553e-03, -4.2433506e-03,  1.9132516e-03],\n",
       "      dtype=float32)"
      ]
     },
     "execution_count": 8,
     "metadata": {},
     "output_type": "execute_result"
    }
   ],
   "source": [
    "vector"
   ]
  },
  {
   "cell_type": "code",
   "execution_count": 24,
   "metadata": {
    "ExecuteTime": {
     "end_time": "2018-10-02T19:28:32.193010Z",
     "start_time": "2018-10-02T19:28:32.188455Z"
    }
   },
   "outputs": [],
   "source": [
    "a = (1,2)"
   ]
  },
  {
   "cell_type": "code",
   "execution_count": null,
   "metadata": {},
   "outputs": [],
   "source": []
  }
 ],
 "metadata": {
  "kernelspec": {
   "display_name": "Python 3",
   "language": "python",
   "name": "python3"
  },
  "language_info": {
   "codemirror_mode": {
    "name": "ipython",
    "version": 3
   },
   "file_extension": ".py",
   "mimetype": "text/x-python",
   "name": "python",
   "nbconvert_exporter": "python",
   "pygments_lexer": "ipython3",
   "version": "3.6.6"
  },
  "toc": {
   "nav_menu": {},
   "number_sections": true,
   "sideBar": true,
   "skip_h1_title": false,
   "title_cell": "Table of Contents",
   "title_sidebar": "Contents",
   "toc_cell": false,
   "toc_position": {},
   "toc_section_display": true,
   "toc_window_display": false
  }
 },
 "nbformat": 4,
 "nbformat_minor": 2
}
