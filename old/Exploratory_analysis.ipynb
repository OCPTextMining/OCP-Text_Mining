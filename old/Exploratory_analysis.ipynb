{
 "cells": [
  {
   "cell_type": "markdown",
   "metadata": {},
   "source": [
    "# Imports"
   ]
  },
  {
   "cell_type": "code",
   "execution_count": 1,
   "metadata": {
    "ExecuteTime": {
     "end_time": "2018-09-30T17:07:25.224269Z",
     "start_time": "2018-09-30T17:07:21.855720Z"
    }
   },
   "outputs": [],
   "source": [
    "import glob\n",
    "import nltk\n",
    "import gensim\n",
    "from collections import Counter\n",
    "import numpy as np\n",
    "from config import Config\n",
    "from itertools import chain\n",
    "import spacy\n",
    "from spacy import displacy"
   ]
  },
  {
   "cell_type": "code",
   "execution_count": 2,
   "metadata": {
    "ExecuteTime": {
     "end_time": "2018-09-30T17:07:25.265365Z",
     "start_time": "2018-09-30T17:07:25.227033Z"
    }
   },
   "outputs": [],
   "source": [
    "def input_data(text_file_directory=Config.TEXT_DATA_PATH):\n",
    "    \"\"\"\n",
    "    Reads the text documents contained in text_file_directory\n",
    "    :param text_file_directory: Path to directory (String)\n",
    "    :return: List where one element in a word in the text. The text order is kept. (List of String)\n",
    "    \"\"\"\n",
    "    list_of_words = []\n",
    "    for file_path in glob.glob(text_file_directory):\n",
    "        with open(file_path, 'r', errors=\"ignore\") as f:\n",
    "            content = ''.join(f.readlines())\n",
    "            content.replace('  ', ' ')\n",
    "            tokenizer = nltk.tokenize.RegexpTokenizer(r'\\w+')\n",
    "            current_list_of_words = [x.lower() for x in tokenizer.tokenize(content)]\n",
    "            try:\n",
    "                pos_tagged_words = nltk.pos_tag(current_list_of_words)\n",
    "            except LookupError:\n",
    "                nltk.download('averaged_perceptron_tagger')\n",
    "            # list_of_nouns = [word for (word, tag) in pos_tagged_words if 'NN' in tag]\n",
    "            list_of_words.append(current_list_of_words)\n",
    "    return list_of_words"
   ]
  },
  {
   "cell_type": "code",
   "execution_count": 3,
   "metadata": {
    "ExecuteTime": {
     "end_time": "2018-09-30T17:08:19.905703Z",
     "start_time": "2018-09-30T17:07:27.135836Z"
    }
   },
   "outputs": [],
   "source": [
    "data = input_data()"
   ]
  },
  {
   "cell_type": "code",
   "execution_count": 4,
   "metadata": {
    "ExecuteTime": {
     "end_time": "2018-09-30T17:08:19.939743Z",
     "start_time": "2018-09-30T17:08:19.913101Z"
    }
   },
   "outputs": [
    {
     "data": {
      "text/plain": [
       "'analysis china dominates airwaves with vat and lower prices the market has been awash with speculation over the imminent announcement of vat on fertilizer sales in china details are elusive still but most believe and certainly hope that the impact on export sales will be negligible in the meantime signs of greater chinese export availabilility for august shipment has led to some weaker prices to be agreed for prompt shipment with reports of sales concluded in non indian markets in the 450s mt fob for the first time since august last year suppliers looking to place lighter coloured product or product that is not guaranteed 18 46 0 are having to concede lower prices indian buyers meanwhile are putting pressure on suppliers to lower prices further sensing the weakness creeping into the market for prompt shipment and looking for new prices closer to 470 mt cfr as yet these lower prices have not been agreed in either india or pakistan and it remains to be seen how much if at all suppliers need to offload prompt good quality darker material the lower prices do mean that chinese dap suddenly becomes interesting in the us and we can not rule out further sales for august shipment availability of dap for export should be at its peak at this time of year with no pull yet from the domestic season domestic demand will start towards the end of the month and run through september and october before petering out and will curtail export availablility accordingly during this period nevertheless gtis export data for august last year show some 800 000 mt chinese dap loaded followed by around 600 000 mt in the subsequent months up to december with vietnam pakistan and india accounting for around 60 of all exports in august and september and regular cargoes loading for the us after a month with no shipments to brazil ocp has confirmed that it will ship around 100 000 mt map in august at a netback of around 477 mt fob jorf lasfar with yara reported to be taking some of the tonnes the market remains slow but the part cargo sales off floaters which have pulled prices down into the 470s mt cfr are no longer evident allowing the market to firm up into the 480s mt cfr with some buyers leaving it until the very last minute before booking their respective requirements it is possible that there could be a pockets of shortages which could in turn prompt some short term firming ocp s new plant is yet to start granulating but the additional acid available from it is being used for india and at ocp s stand alone granulation units with the ethiopian tender due to be issued in the coming weeks for a volume possibly even larger than the 570 000 mt tendered for in september last year ocp will be looking to take the bulk of the business to support production at its first hub plant targetted specifically for africa www crugroup com phosphates weekly report 5 highlights of the week vat on fertilizer sales in china expected to be announced imminently chinese dap falls below 460 mt fob for non indian sales ocp to ship 100 000 mt map dap into brazil with sales at 490 mt cfr indian meteorological department reiterates its gloomy outlook for august september rainfall sulphur chinese sulphur prices at the ports declined this week by an average of around rmb 40 mt despite higher fob prices being indicated by middle east suppliers for august ammonia firmer prices are anticipated in q3 due to expectations of tighter availability but with little movement evident in the short term prices remain largely unchanged agricultural developments grain and oilseed markets suffered further losses this week as the world supply outlook remains comfortable crop tours conducted in the us reporting mostly positive results although projections for corn and soybean yields are below current usda estimates and the outstanding levels reached last year they should still result in good harvests this will continue to cap prices and pressure fertilizer demand warm and dry weather continues to impact the condition of the corn crop in europe production forecasts have been slashed with a survey conducted by bloomberg showing the average eu corn production estimate at 62 8 million tonnes 19 year on year the french crop is looking particularly poor with one analyst calling it fried and looking its worst since 2003 other major growing areas in bulgaria hungary and italy are also looking at sharp declines in production although the fertilizer season is over for these crops it shows how dry conditions have been in europe over the past few months this may impact demand for the upcoming winter planting season there is some rain forecast for the coming two weeks which may help boost soil moisture reserves in key planting regions www crugroup com phosphates weekly report 6 markets dap map north america us tampa mosaic selling volumes for latin america mosaic sold 10 000 mt of dap map at 465 mt fob tampa for latin america to load in august in line with sales in prior weeks the company s export lineup for september includes one panamax for india that vessel is for the company s own distribution system us midwest inactive market leaves indications alone postings for dap and map are unchanged across the region but this is hardly surprising given the seasonal lack of spot demand distributors report mosaic is about two weeks behind in scheduled deliveries of summer fill dap and map but there is relatively little worry as the producer has time to make up the delays before fall demand us s plains flat pricing despite lack of demand concerns that replacement costs may not have stopped rising have led distributors to keep dap postings around 460 465 st fob along the arkansas river this week even though no substantial demand is reported usa imports covered declining domestic supply as noted in prior months the surge in imports of dap and map during the 2014 2015 us fertilizer year that ended june 30 made up for lost domestic production and changes in the product mix away from dap and map by mosaic in recent years most of the cover came from china but russian and moroccan imports also played a key role dap according to data from the us department of commerce us dap imports actually fell in june compared to one year earlier but the volumes were trivial at 2 579 st 2 340 mt for june 2015 versus 9 479 st 8 600 mt for june 2014 for the 12 months ended june 30 us dap arrivals jumped to 823 646 st 747 207 mt compared to just 180 120 st during the prior year period the biggest supplier of imported dap to the us during 2014 2015 was china at 366 521 st up from just 1 347 st for the prior year other major sources included morocco at 292 346 st and russia at 147 109 st www crugroup com phosphates weekly report 7 map us map imports over the same twelve month window roughly doubled although june arrivals were down from the prior year to 3 780 st 3 429 mt from 40 794 st 37 008 mt the small map arrivals in june brought the july june arrivals to 1 06 million st 963 719 mt compared to just 500 306 st for the prior year period the main suppliers of map to the us during the fertilizer year ended june 30 were morocco at 383 469 st russia at 308 976 st and china at 270 325 st us midwest slow map dap demand dap and map sales are reported by distributors as very slow although this is not necessarily unusual for early august however distributors also noted that deliveries of earlier summer fill dap and map from mosaic are running about two weeks behind expectations price positngs are higher in some parts of the midwest with a range of 460 465 st fob reported for dap map 11 52 0 is available and offered at a 10 st premium to dap for domestic and imported material us nola more imports prices suffer imported dap barges primarily originating in china and discharging in coming days has sold down to 428 st fob new orleans in recent days most suppliers have declined to match this level us and material from non chinese sources still is indicated closer to 435 st fob against bids as low as 430 st fob map 11 52 0 is achieving a wider margin at least for domestic material however imported map scheduled to arrive in september may put a dent in that spread meanwhile further spot cargos have been added to last week s reported lineup in this case morocco s ocp is planning to supply 2x50 000 mt of map dap expected to be divided between koch and potashcorp those cargos will load in early september and likely discharge in late september or the very early days of october as previously reported oakley koch will receive 60 000 mt dap map thought to be mainly dap ex indagro kailin china now being offered in low mid 430s st nola 30 000 mt dap map ex indagro kailin diverted from brazil with the dap sold in the low 430s st nola united suppliers 30 000 mt map 10 000 mt dap plus 12 40 0 s ex morocco for mid september arrival with the map dap sold at 490 mt cfr 25 000 mt map plus 5 000 mt tsp ex mexico for h1 september shipment to ameropa the map sold at around 490 mt cfr and the tsp at around 400 mt cfr 25 30 000 mt tsp for helm ex morocco for august shipment sold at 400 mt cfr was confirmed and the buyer is believed to have an option for a september cargo at least one 10 15 000 mt map cargo is expected from eurochem for early september loading and one from phosagro for september shipment www crugroup com phosphates weekly report 8 central and south america argentina ameropa books cargo from mexico ameropa will lift a 30 000 mt tsp map cargo for argentina uruguay in late september from fertinal mexico the price for the 10 000 mt map is heard in the mid 480s mt cfr with the 20 000 mt tsp believed to be priced in the mid 390s mt cfr farming in argentina is seemingly becoming more difficult wheat planting has just finished and area is said to be down around 15 from last year with farmers favouring barley instead with corn and soybean planting approaching agencies have starting giving their assessments on prospective areas corn is set to suffer again in the face of low prices and high input costs the usda attaché office said this week corn planting will be 15 lower than last year and more soybeans are expected to be planted overall this is very negative for fertilizer demand mexico new sales to argentina fertinal has sold a cargo of 20 000 mt tsp plus 10 000 mt map for end september shipment to ameropa for argentina the tonnes were concluded at around the 395 mt cfr level for the tsp and 485 mt cfr for the map fertinal is now sold out to almost mid october this will mark ameropa s second mexican cargo for september shipment the first being the 30 000 mt cargo loading in early september for the us gulf as reported previously comprising 25 000 mt map and 5 000 mt tsp prices for these tonnes are understood to be around 470 mt fob for the map and 380 mt fob for the tsp with a freight estimated at 20 mt brazil ocp confirms sales of map at 490 mt cfr ocp has confirmed sales of map for august shipment at 490 mt cfr it will be shipping a total of 100 000 mt map dap this month into brazil comprising around 90 000 mt map and 10 000 mt dap it is also planning further shipments through september and october with no more floater tonnes available this week price indications have moved up into the 480s mt cfr thereby giving a full range of 480 490 mt cfr traders are reluctant to take new positions now for the coming season and as such there is some concern that those buyers who have waited until the last minute could find themselves short of product ocp is planning to ship tonnes in september october but presumably only to stock its warehouse system ahead of safrinha demand levels post september for the safrinha will depend on the level of retail movement in the peak months of august october and how quickly product moves through the system and onto farm ocp will also be shipping 30 000 mt tsp into brazil this month sold at 400 mt cfr www crugroup com phosphates weekly report 9 central america incofe awards tender for dap map incofe closed a tender august 3 for 9 500 mt dap for shipment by august 20 30 in three lots each to guatemala nicaragua and colombia plus 3 000 mt map 10 50 0 for colombia and 2 000 mt for chile the dap and map together with the as also reqested is understood to have been awarded to allied harvest all covered from china the price for the dap is heard at around 490 mt cfr with the map 10 50 0 said to be in the mid 430s mt cfr europe turkey limited scope for new spot cargoes no new dap imports have been confirmed for august and scope for further spot buying is now limited eurochem had been offering an august cargo of lithuanian dap but to date no sales have been confirmed gubretas is expected to take its residual requirements from tunisia now that gct is back up and running ocp will be shipping around 30 000 mt dap this month against its agreement with toros middle east and africa tunisia gct expected to have 40 000 mt dap in august with gabes back up and running supported by steady deliveries of phosphate rock gct is expected to have around 40 000 mt dap available for export for august most of this quantity is expected to be offered into turkey for delivery to gubretas rail transport between key mines and the plants at sfax and la skhira has resumed but phosphate rock production and processing remains limited by the availability of water according to local press reports supplies which had previously been used by the phosphate industry have been diverted for domestic consumption this has is almost certainly part of the attempt by local government to appease the inhabitants of the gafsa region who have been citing a lack of water as one of the key issues in the ongoing protests cpg has been targetting a monthly rock production of 500 000 mt and an annual target of 3 5 million mt but this may yet be ambitious with water limitations through the summer months saudi arabia committed through august shipments to india pakistan and africa mainly south africa have provided a solid baseload of export business through july and august prices in india are showing signs of weakness with buyers putting pressure on suppliers to lower prices current price indications for saudi dap in india are in the upper 470s mt cfr cash sabic claims to be well committed in september and is discussing export business for october the latest map cargo sold to africa for august shipment was said to net back into the mid 480s mt fob rak www crugroup com phosphates weekly report 10 morocco ocp to ship 100k map dap to brazil ocp has confirmed that it will be shipping 90 000 mt map and 10 000 mt dap to brazil during august against sales concluded at 490 mt cfr with freights estimated at around 13 mt this gives a netback to jorf lasfar of 477 mt fob ocp s august line up now comprises the following 100 000 mt dap map to europe including 20 30 000 mt dap for turkey plus 15 000 mt tsp prices for the dap into west europe are in the range of 500 505 mt fob the price for the tsp is stated at between 400 410 mt fob 100 000 mt map dap for brazil at 490 mt cfr upper 470s mt fob plus 30 000 mt tsp at 400 mt cfr upper 380s mt fob 50 000 mt map dap nps for the us the map dap sold at 90 mt cfr giving a netback close to 480 mt fob www crugroup com phosphates weekly report 11 30 000 mt tsp for helm us sold at 400 mt cfr 100 000 mt map dap npks for africa including 35 000 mt map for south africa and npks for benin and nigeria 25 000 mt dap for badc bangladesh plus 30 000 mt tsp all priced on a formula basis 50 000 mt dap npks for moroccan market for september ocp is planning to load two vessels totalling 100 000 mt map dap for the us gulf expected to be for potashcorp and koch as well as further map for brazil the august map dap nps npks total 425 000 mt product and with the product mix favouring dap and map rather than npks the p2o5 content equates to around 400 000 mt dap if not more with the phosphoric acid unit now running well at the new jph 1 plant but the granulation plant yet to reach commercial production ocp has additional phosphoric acid to use for granulation at its stand alone units it has initimated that it is also shipping increased quantities this month to india once the new plant is fully operational the production will be aimed at african markets according to ocp ethiopia is due to issue a tender for its annual requirements in the coming weeks ocp will be aiming to take the bulk of this business expected to be more than the 520 000 mt nps 19 38 0 7s purchased in total from the ministry of agriculture s tender in september last year ocp was awarded 371 500 mt against that tender for shipment between september and may at capacity ocp s new plant will have a monthly production rate of 40 000 mt p2o5 equating to 105 000 mt nps 19 38 0 7s indian subcontinent pakistan 400 000 mt dap possible but flood worries the latest nfdc data show strong consumption of dap through june for the kharif and an increase was predicted for the season as a whole compared with previous years as such imports of at least 400 000 mt are theoretically needed to cover the balance of the year floods however in late july have tempered consumption and it remains to be seen whether this will have an impact on overall demand no further imports are known to have been booked since fauji s two chinese cargoes for august and september shipment from china in the low 480s mt cfr importers are comfortable but the next round of buying is expected in the coming weeks for late august september shipment latest price indications are around 480 mt cfr for both chinese and saudi material india rcf issues new tender for map dap lite rcf has issued a tender closing august 19 for 40 000 mt granular map 10 50 0 dap lite 16 44 0 for shipment in two lots of 20 000 mt to mbpt mumbai port trust the first lot in h1 september and the second in h1 november www crugroup com phosphates weekly report 12 india imd reiterates below average monsoon forecast the latest forecast from the indian meteorological department imd reinforces its earlier forecast of a below normal monsoon with a prediction of august september rainfall at 84 of the long period average and at 88 of the lpa for the whole season the latest daily forecast issued for august 2 shows a worsening of the monsoon since the end of last week having been only 3 down on the long term average on july 30 the all india rainfall between june 1 august 2 showed a decline of 6 with the southern peninsular continuing to fare the worst at 22 down against the lpa india buyers indicate lower prices the indian import market has been quiet this week with little new business to report buyers and sellers continue to discuss prices for outstanding august cargoes with some buyers indicating as low as 470 mt cfr kribhco is in the process of finalising its august cargo with ma aden with a price idea of in the upper 470s mt cfr with 30 60 days credit chinese dap has been traded at around the 475 mt cfr level but buyers are now putting increased pressure on suppliers to drop the price even lower into the low 470s and even to 470 mt cfr current price indications in china are weaker with business done in non indian markets below 460 mt cfr for product that is not necessarily dark coloured and guaranteed 18 46 0 i e product that would not be well received in india the indian rupee touched 64 against the usd earlier this week but has since rallied slightly to close at press time back at 63 7 the latest monsoon data show overall rainfall to date still at 6 below the long period average but the southern peninsula is still showing a deficit of over 20 the bigger dap consuming states in the north by contrast are enjoying steady rains which should if they continue bode well for dap consumption although the monsoon season is far from over www crugroup com phosphates weekly report 13 asia and oceania china values below 460 mt fob for non india sales whereas chinese dap prices for the indian market remain in the low mid 460s mt fob sales of standard dap have been concluded into non indian markets at prices in the 450s mt fob to date these sales are said to be for august shipment for product that is not generally well received in india or pakistan eg white or light coloured dap or dap whose nutrient content can not be guaranteed kailin light dap is heard sold in the upper 450s mt fob for shipment to the us which with a 15 mt freight could be priced on a barge in the low mid 430s st fob nola www crugroup com phosphates weekly report 14 allied harvest is understood to have sold 9 500 mt dap into central america for prompt shipment at a netback at or close to 450 mt fob more chinese dap sales for the us can not be ruled out for august shipment with both india and pakistan looking a little quieter in the near term and the chinese domestic delivery season yet to start dap prices in the 450s mt fob make such shipments a lot more attractive allied harvest has also sold around 5 000 mt map 10 50 0 for prompt shipment in combination with the dap to guatemala and chile at a netback believed to be sub 400 mt fob september granular map 10 50 0 has been on offer and sold for export at 410 mt fob china but demand remains thin demand is even more elusive for granular 11 44 0 china suppliers to reclaim vat on exports latest reports from china on the issue of vat suggest that the new policy has now been finalised and formal publication of the details can be expected within a matter of days as has been discussed already the chinese government plans to re introduce vat on fertilizer sales this will take effect from september 1 and apply to domestic sales of all fertilizers at a rate widely expected at 13 but as yet the impact on exported product is less certain there is much speculation about the final details but one theory that is gathering traction is that suppliers may be able to reclaim any vat paid on exported product a theory which makes logical sense and which would mean that the new policy will have no significant impact on exported fertilizers aside from a minimal administrative cost without full knowledge of exactly how the new policy will be implemented it is impossible to estimate the eventual cost of the new vat policy to the phosphate producers and the ultimate impact on domestic and possibly export pricing nevertheless it is our understanding that producers already paying 17 vat on all purchased inputs will be able to offset this input vat against the cost of the eventual vat rate levied on domestic sales as such those integrated producers who have captive rock and or ammonia supply for example could be facing a higher cost increase from the new tax as they will have a lower input vat cost levied on feedstock to offset against vat on sales smaller producers appear not to pay any vat on some or all of the inputs but the new policy is expected to bring tighter regulations to the vat system for domestic dap map sales producers are expected to pass the additional cost on to the buyer initial estimates suggest a higher cost burden from the new tax if introduced at 13 for most of the larger producers of up to 10 mt but for some it could be as high as 15 20 mt one interesting element for the phosphate and potash market is the impact the vat might have on imports currently morocco and tunisia have a long term government to government agreement to supply certain quantities of dap to china each year which is then subsidised some us cargoes are occasionally also imported into northern chinese ports ahead of the spring season the overall volume is not huge compared with export volumes more recently less than 250 000 mt per year but imports or rather sales of imported product are now expected to be subject to vat like all other fertilizers importers may have to pay 13 of the landed duty paid price which will make imports non viable unless the government will agree to www crugroup com phosphates weekly report 15 increase the subsidy to compensate for the additional cost give some rebate on the vat paid or else exempt imported fertilizers altogether from the new policy phosphoric acid middle east and africa senegal no recovery in phosacid exports the latest gtis data show little sign yet of any recovery in senegalese phosacid exports for the indian market h1 export data show the same volume exported as last year at just over 100 000 mt p2o5 equating to an average of just over 15 000 mt p2o5 per month in the five years prior to 2013 monthly exports to india averaged nearer 25 000 mt p2o5 phosphoric acid by contrast phosphate rock exports from senegal rose to almost 300 000 mt in the first six months of this year up from 220 000 mt last year and just 154 000 mt in h1 2013 fertinagro spain and grupa azoty poland took 82 000 mt and 75 000 mt respectively from their own deposits a further 70 000 mt were channelled through switzerland according to the latest gtis data but it is not yet clear where the actual destination was for these tonnes lcc also took 54 000 mt in h1 covering a shortfall from syria indian subcontinent india sizeable increase in jan may imports of phosacid increased quantities of phosphoric acid from both morocco and jordan have boosted imports in 2015 with the latest gtis data showing a sizeable increase in imports between january and may compared with recent years total imports in this five month period reached almost 700 000 mt p2o5 including 360 000 mt from morocco and 98 000 mt from jordan august imports for ths week include a 7 600 mt solution cagro from duc giang s plant in lao cai vietnam against a contract for a cargo per month priced basis the cfr india phosphoric acid contract price www crugroup com phosphates weekly report 16 bangladesh bcic issues retender for phosacid bcic has issued a re tender for 10 000 mt phosphoric acid solution closing september 2 for shipment to bcic s tsp plant at chittagong 30 days after receipt of l c the tender will replace that of the session which closed on july 28 for the same quantity in which aries fertilizer offered the lowest price at 467 35 mt cfr solution for product from india south africa or jordan against bcic s tender of july 29 for 50 000 mt phosacid solution for the dap plant at chittagong an award is expected to go to aries fertilizer who offered all five lots at 467 35 mt cfr phosphate rock indian subcontinent india rcf opens high grade technical offers rcf received three offers against its tender of august 3 for 35 000 mt phosphate rock 32 p2o5 70 bpl plus a further 35 000 mt at buyer s option the three offers comprised jordanian rock with 34 p2o5 content from jpmc togolese rock with 35 p2o5 through kalyan resources and finally south african rock with 36 5 p2o5 through sun international shipment for the first 35 000 mt lot is requested for h2 august h1 september into mbpt with shipment for the optional lot required for h1 november offers to be valid for 30 days india egypt and morocco increase rock market share latest gtis data for may showed that indian phosphate rock arrivals in the first five months were down by 260 000 mt against the same period in 2014 at 3 16 million mt imports from jpmc reached 1 2 million mt marginally down on jan may 2014 but over 500 000 mt less than in the same period 2013 meanwhile market share held by egypt has risen 16 to 24 over the past two www crugroup com phosphates weekly report 17 years while ocp has also increased shipments to the indian market over this period with over 500 000 mt imported from morocco in the first five months www crugroup com phosphates weekly report 18 sarah marlow editor global tel 44 0 20 7903 2277 email sarah marlow crugroup com bk morris writer north america tel 1 240 965 7669 email bk morris crugroup com isaac zhao contributor china tel tel 86 10 6510 2206 email isaac zhao crugroup com deepak chitroda contributor india tel 91 22 66875713 email deepak chitroda crugroup com ben farey editor in chief direct tel 44 0 207 903 2015 mobile 44 0 7885557034 email ben farey crugroup com subscriptions customer services tel 44 0 20 7903 2146 email customer services crugroup com legal copyright notice 2015 cru international ltd please note access to and use of this product are restricted by copyright and other law to named authorised users of companies with valid licences to do so any other use is prohibited the copyright of this product is held by cru international ltd it is a breach of law to forward share this product or any of its contents including but not limited to single prices to any person whether in your company or otherwise unless that person is an authorised user under a valid licence the commission of any unauthorised act in relation to this product may result in civil or criminal actions disclaimer while all reasonable efforts are taken to ensure the reliability of the fertilizer pricing and freight pricing data fw does not guarantee its accuracy or take liability for the results obtained by using the data using fw prices in contracts many subscribers to fertilizer week use fertilizer week benchmark prices in their contracts when both sides in a business arrangement agree in advance to use a set of prices it creates more certainty and saves everyone time as long as the prices can be relied upon fertilizer week publishes a regularly updated methodology document with detailed definitions of every price we publish by understanding how we calculate our prices you will be able to build your own scenarios based on these prices for more detail on methodology view our pricing methodology guide cru international ltd registered in england no 940750 registered office charles house 108 110 finchley road london nw3 5jj tel 44 20 7903 2000 fax 44 20 7837 0976 www crugroup com'"
      ]
     },
     "execution_count": 4,
     "metadata": {},
     "output_type": "execute_result"
    }
   ],
   "source": [
    "' '.join(data[0])"
   ]
  },
  {
   "cell_type": "code",
   "execution_count": 5,
   "metadata": {
    "ExecuteTime": {
     "end_time": "2018-09-29T21:14:43.303217Z",
     "start_time": "2018-09-29T21:14:43.292027Z"
    }
   },
   "outputs": [
    {
     "name": "stdout",
     "output_type": "stream",
     "text": [
      "We have 100 documents. The average document has 7771.3 words.\n"
     ]
    }
   ],
   "source": [
    "print(f\"We have {len(data)} documents. The average document has {np.mean([len(x) for x in data])} words.\")"
   ]
  },
  {
   "cell_type": "markdown",
   "metadata": {},
   "source": [
    "# Flatten words list and analysis"
   ]
  },
  {
   "cell_type": "code",
   "execution_count": 6,
   "metadata": {
    "ExecuteTime": {
     "end_time": "2018-09-29T21:14:43.337813Z",
     "start_time": "2018-09-29T21:14:43.306800Z"
    }
   },
   "outputs": [],
   "source": [
    "raw_words = list(chain(*data))"
   ]
  },
  {
   "cell_type": "code",
   "execution_count": 7,
   "metadata": {
    "ExecuteTime": {
     "end_time": "2018-09-29T21:14:43.474120Z",
     "start_time": "2018-09-29T21:14:43.341538Z"
    }
   },
   "outputs": [
    {
     "data": {
      "text/plain": [
       "[('to', 28355),\n",
       " ('mt', 27832),\n",
       " ('the', 26343),\n",
       " ('in', 16969),\n",
       " ('and', 12598),\n",
       " ('of', 12294),\n",
       " ('dap', 11794),\n",
       " ('for', 11104),\n",
       " ('from', 10669),\n",
       " ('at', 8923),\n",
       " ('a', 8875),\n",
       " ('000', 8138),\n",
       " ('year', 6617),\n",
       " ('is', 6441),\n",
       " ('on', 6058),\n",
       " ('fob', 6037),\n",
       " ('map', 5749),\n",
       " ('cfr', 5349),\n",
       " ('with', 5139),\n",
       " ('are', 5098)]"
      ]
     },
     "execution_count": 7,
     "metadata": {},
     "output_type": "execute_result"
    }
   ],
   "source": [
    "count_words = Counter(raw_words)\n",
    "count_words.most_common(20)"
   ]
  },
  {
   "cell_type": "code",
   "execution_count": 8,
   "metadata": {
    "ExecuteTime": {
     "end_time": "2018-09-29T21:14:43.488882Z",
     "start_time": "2018-09-29T21:14:43.478701Z"
    }
   },
   "outputs": [],
   "source": [
    "def least_common_values(array, to_find=None):\n",
    "    from operator import itemgetter\n",
    "    counter = Counter(array)\n",
    "    if to_find is None:\n",
    "        return sorted(counter.items(), key=itemgetter(1), reverse=False)\n",
    "    return heapq.nsmallest(to_find, counter.items(), key=itemgetter(1))"
   ]
  },
  {
   "cell_type": "code",
   "execution_count": 9,
   "metadata": {
    "ExecuteTime": {
     "end_time": "2018-09-29T21:14:43.648896Z",
     "start_time": "2018-09-29T21:14:43.491388Z"
    }
   },
   "outputs": [],
   "source": [
    "min_frequency = 10\n",
    "rare_words = [word for (word, count) in least_common_values(raw_words) if count < min_frequency]"
   ]
  },
  {
   "cell_type": "code",
   "execution_count": null,
   "metadata": {
    "ExecuteTime": {
     "start_time": "2018-09-29T21:14:05.415Z"
    }
   },
   "outputs": [],
   "source": [
    "blacklist = [\"mt\", \"com\", \"crugroup\", \"'s\", \"analysis\"]\n",
    "words = list(filter(lambda x: (x not in blacklist) and (x not in rare_words), raw_words))"
   ]
  },
  {
   "cell_type": "code",
   "execution_count": null,
   "metadata": {
    "ExecuteTime": {
     "start_time": "2018-09-29T21:14:05.711Z"
    }
   },
   "outputs": [
    {
     "name": "stdout",
     "output_type": "stream",
     "text": [
      "\n",
      "\u001b[93m    Serving on port 5000...\u001b[0m\n",
      "    Using the 'ent' visualizer\n",
      "\n"
     ]
    }
   ],
   "source": [
    "nlp = spacy.load('en_core_web_sm')\n",
    "doc = nlp(' '.join(data[0]))\n",
    "displacy.serve(doc, style='ent')"
   ]
  },
  {
   "cell_type": "code",
   "execution_count": null,
   "metadata": {},
   "outputs": [],
   "source": []
  }
 ],
 "metadata": {
  "kernelspec": {
   "display_name": "Python 3",
   "language": "python",
   "name": "python3"
  },
  "language_info": {
   "codemirror_mode": {
    "name": "ipython",
    "version": 3
   },
   "file_extension": ".py",
   "mimetype": "text/x-python",
   "name": "python",
   "nbconvert_exporter": "python",
   "pygments_lexer": "ipython3",
   "version": "3.6.1"
  },
  "toc": {
   "nav_menu": {},
   "number_sections": true,
   "sideBar": true,
   "skip_h1_title": false,
   "title_cell": "Table of Contents",
   "title_sidebar": "Contents",
   "toc_cell": false,
   "toc_position": {},
   "toc_section_display": true,
   "toc_window_display": false
  }
 },
 "nbformat": 4,
 "nbformat_minor": 2
}
